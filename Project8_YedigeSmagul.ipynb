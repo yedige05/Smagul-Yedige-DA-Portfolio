{
 "cells": [
  {
   "cell_type": "markdown",
   "id": "b853c1a0",
   "metadata": {},
   "source": [
    "# Проектная работа по Introduction to Python"
   ]
  },
  {
   "cell_type": "markdown",
   "id": "1a698f88",
   "metadata": {},
   "source": [
    "#### > Task01. Базовый синтаксис:\n",
    "\n",
    "Создайте два переменных `name`, `age`  и впишите в них любые имя и возраст\n",
    "\n",
    "Затем распечатайте эти переменные, передав их тремя аргументами в функцию print, завернув в f-строку.\n",
    "\n",
    "Создайте комментарий в любом месте программы и напишите туда дату решения задачи. Это ни на что не повлияет — просто попрактикуемся в написании комментариев.\n",
    "\n",
    "Desired output:\n",
    "```python\n",
    "    Меня зовут <name>. Мне <age> лет/года.\n",
    "```"
   ]
  },
  {
   "cell_type": "code",
   "execution_count": 2,
   "id": "75d81187",
   "metadata": {},
   "outputs": [
    {
     "name": "stdout",
     "output_type": "stream",
     "text": [
      "My name is Yedige. I am 22 years old.\n"
     ]
    }
   ],
   "source": [
    "name = 'Yedige'\n",
    "age = 22\n",
    "print (f\"My name is {name}. I am {age} years old.\")"
   ]
  },
  {
   "cell_type": "markdown",
   "id": "dad5baa9",
   "metadata": {},
   "source": [
    "#### > Task02. Арифметика : поход в магазин\n",
    "\n",
    "Представим, что у нас есть `total_money` тенге и мы идем в магазин покупать варенье про запас. \n",
    "Каждая банка варенья стоит `price` тенге (при этом `price > 0`). Наша задача — подсчитать, сколько **банок** мы сможем купить.\n",
    "\n",
    "\n",
    "```python\n",
    "total_money = 5000 \n",
    "price = 1579\n",
    "```\n",
    "Запишите результат в переменную jar_count.\n"
   ]
  },
  {
   "cell_type": "code",
   "execution_count": 4,
   "id": "3299f348",
   "metadata": {},
   "outputs": [
    {
     "name": "stdout",
     "output_type": "stream",
     "text": [
      "3\n"
     ]
    }
   ],
   "source": [
    "total_money = 5000 \n",
    "price = 1579\n",
    "jar_count = total_money//price\n",
    "print(jar_count)"
   ]
  },
  {
   "cell_type": "markdown",
   "id": "bd2a6b51",
   "metadata": {},
   "source": [
    "#### > Task03. Арифметика : квадратные уравнения\n",
    "\n",
    "В практических приложениях математики часто встречаются квадратные уравнения — это уравнения вида:\n",
    "\n",
    "ax<sup>2</sup> + bx + c = 0\n",
    "\n",
    "Здесь a, b и c — некие числа. Вот пример такого уравнения:\n",
    "\n",
    "3x<sup>2</sup> + 7x − 10 = 0\n",
    "\n",
    "В примере a=3, b=7, c=−10.\n",
    "\n",
    "У таких уравнений может быть два, одно или ноль решений. Мы для простоты будем рассматривать только те уравнения, которые имеют два решения. Если решений два, то они задаются формулами:\n",
    "\n",
    "$$ x_1 = {-b + \\sqrt{b^2-4ac} \\over 2a} $$ $$ x_2 = {-b - \\sqrt{b^2-4ac} \\over 2a} $$\n",
    "\n",
    "Выглядит пугающе! Но на деле две формулы отличаются только заменой знака \"+\" на знак \"−\" перед квадратным корнем.\n",
    "\n",
    "**Наша задача:** по известным a, b, c подсчитать оба корня этого уравнения<br>\n",
    "```python\n",
    "a = [6, 2, -4, 20]\n",
    "b = [11, -4, -7, -15]\n",
    "c = [-35, -2, 12, -10]\n",
    "```\n",
    "\n",
    "Запишите результаты в листы `x_1` и `x_2` соответственно\n",
    "\n",
    "*Bonus: попробуйте переписать решение квадратного уравнение теоремой Виета*"
   ]
  },
  {
   "cell_type": "code",
   "execution_count": 43,
   "id": "fdcf4e01",
   "metadata": {},
   "outputs": [],
   "source": [
    "a = [6, 2, -4, 20]\n",
    "b = [11, -4, -7, -15]\n",
    "c = [-35, -2, 12, -10]\n",
    "\n",
    "x_1 = []\n",
    "x_2 = []"
   ]
  },
  {
   "cell_type": "code",
   "execution_count": 44,
   "id": "47182826",
   "metadata": {
    "scrolled": true
   },
   "outputs": [
    {
     "name": "stdout",
     "output_type": "stream",
     "text": [
      "[1.6666666666666667, 2.414213562373095, -2.8155218370325032, 1.175390529679106]\n",
      "[-3.5, -0.41421356237309515, 1.065521837032503, -0.42539052967910607]\n"
     ]
    }
   ],
   "source": [
    "import math\n",
    "\n",
    "for i in range(len(a)):\n",
    "    discriminant = b[i]**2 - 4*a[i]*c[i]\n",
    "\n",
    "    root1 = (-b[i]+ math.sqrt(discriminant))/(2*a[i])\n",
    "    root2 = (-b[i]- math.sqrt(discriminant))/(2*a[i])\n",
    "    \n",
    "    x_1.append(root1)\n",
    "    x_2.append(root2)\n",
    "\n",
    "print(x_1)\n",
    "print(x_2)"
   ]
  },
  {
   "cell_type": "markdown",
   "id": "565da3fc",
   "metadata": {},
   "source": [
    "#### > Task04. Коллекции : \"Это большие дела...\"\n",
    "У нас есть два списка `tasks_my` и `tasks_friend`.\n",
    "\n",
    "Теперь необходимо объединить эти списки в один (любым способом, сначала tasks_my, потом tasks_friend) и сохраните результат в tasks_all\n",
    "\n",
    "```python\n",
    "tasks_my = ['Закончить с домашкой', 'Купить продукты', 'Поиграть в Valorant']\n",
    "tasks_friend = ['Поиграть в Valorant', 'Сходить в универ', 'Помыть машину']\n",
    "```"
   ]
  },
  {
   "cell_type": "code",
   "execution_count": 21,
   "id": "3b441477",
   "metadata": {},
   "outputs": [
    {
     "name": "stdout",
     "output_type": "stream",
     "text": [
      "{'Сходить в универ', 'Закончить с домашкой', 'Поиграть в Valorant', 'Купить продукты', 'Помыть машину'}\n"
     ]
    }
   ],
   "source": [
    "tasks_my = ['Закончить с домашкой', 'Купить продукты', 'Поиграть в Valorant']\n",
    "tasks_friend = ['Поиграть в Valorant', 'Сходить в универ', 'Помыть машину']\n",
    "tasks_all = tasks_my + tasks_friend\n",
    "print(set(tasks_all))"
   ]
  },
  {
   "cell_type": "markdown",
   "id": "431c4d55",
   "metadata": {},
   "source": [
    "#### > Task05. Коллекции : \"Это большие дела... \"-2\n",
    "В списке наших дел не хватает приоритетов задач -- какой задачей стоит заняться в первую очередь?\n",
    "\n",
    "Создайте dictionary по названием `my_tasks`. Структура и содержание следующее:\n",
    "\n",
    "| Приоритет\t| Задача |\n",
    "| ----- | ------ |\n",
    "| 0 | Покормить кота |\n",
    "| 1 | Закончить с домашкой |\n",
    "| 2 | Почитать книгу по программированию |\n",
    "| 3 | Купить продукты |\n",
    "| 4 | Поиграть в Valorant |\n",
    "\n"
   ]
  },
  {
   "cell_type": "code",
   "execution_count": 26,
   "id": "8745e9b6",
   "metadata": {},
   "outputs": [
    {
     "data": {
      "text/html": [
       "<div>\n",
       "<style scoped>\n",
       "    .dataframe tbody tr th:only-of-type {\n",
       "        vertical-align: middle;\n",
       "    }\n",
       "\n",
       "    .dataframe tbody tr th {\n",
       "        vertical-align: top;\n",
       "    }\n",
       "\n",
       "    .dataframe thead th {\n",
       "        text-align: right;\n",
       "    }\n",
       "</style>\n",
       "<table border=\"1\" class=\"dataframe\">\n",
       "  <thead>\n",
       "    <tr style=\"text-align: right;\">\n",
       "      <th></th>\n",
       "      <th>Priority</th>\n",
       "      <th>Task</th>\n",
       "    </tr>\n",
       "  </thead>\n",
       "  <tbody>\n",
       "    <tr>\n",
       "      <th>0</th>\n",
       "      <td>0</td>\n",
       "      <td>Покормить кота</td>\n",
       "    </tr>\n",
       "    <tr>\n",
       "      <th>1</th>\n",
       "      <td>1</td>\n",
       "      <td>Закончить с домашкой</td>\n",
       "    </tr>\n",
       "    <tr>\n",
       "      <th>2</th>\n",
       "      <td>2</td>\n",
       "      <td>Почитать книгу по программированию</td>\n",
       "    </tr>\n",
       "    <tr>\n",
       "      <th>3</th>\n",
       "      <td>3</td>\n",
       "      <td>Купить продукты</td>\n",
       "    </tr>\n",
       "    <tr>\n",
       "      <th>4</th>\n",
       "      <td>4</td>\n",
       "      <td>Поиграть в Valorant</td>\n",
       "    </tr>\n",
       "  </tbody>\n",
       "</table>\n",
       "</div>"
      ],
      "text/plain": [
       "   Priority                                Task\n",
       "0         0                      Покормить кота\n",
       "1         1                Закончить с домашкой\n",
       "2         2  Почитать книгу по программированию\n",
       "3         3                     Купить продукты\n",
       "4         4                 Поиграть в Valorant"
      ]
     },
     "execution_count": 26,
     "metadata": {},
     "output_type": "execute_result"
    }
   ],
   "source": [
    "import pandas as pd\n",
    "my_tasks = {\"Priority\":[0,1,2,3,4],\n",
    "           \"Task\":['Покормить кота', 'Закончить с домашкой', 'Почитать книгу по программированию', 'Купить продукты','Поиграть в Valorant']}\n",
    "df = pd.DataFrame(my_tasks)\n",
    "df"
   ]
  },
  {
   "cell_type": "markdown",
   "id": "dc057f95",
   "metadata": {},
   "source": [
    "#### > Task06. Множества : Дубли в задачах\n",
    "Последняя неделя выдалась тяжелой, и вам постоянно приходилось в спешке добавлять в записную книжку новые задачи. Теперь одна и та же задача в вашей книжке может дублироваться! Дедлайны вовсю бьют, поэтому вы готовы садиться за задачи без разбора их порядка.\n",
    "\n",
    "Вам дан словарь с задачами `tasks`. Пройдитесь по всем ключам и устраните дублирование только в рамках значений, соответствующих одному ключу. Создайте новый словарь `new_tasks`, в котором будут те же ключи и те же задачи, но уже без дублей.\n",
    "\n",
    "```python\n",
    "tasks = { \n",
    "    0: [\"Покормить кота\",\"Покормить кота\"],\n",
    "    1: [\"Покормить кота\", \"Забрать посылку\"]\n",
    "}\n",
    "\n",
    "# Результат\n",
    "new_tasks = {\n",
    "    0: ['Покормить кота'],\n",
    "    1: ['Покормить кота', 'Забрать посылку']\n",
    "}\n",
    "\n",
    "```"
   ]
  },
  {
   "cell_type": "code",
   "execution_count": 159,
   "id": "4288dd8a",
   "metadata": {},
   "outputs": [],
   "source": [
    "tasks = { \n",
    "    0: [\"Покормить кота\",\"Покормить кота\"],\n",
    "    1: [\"Покормить кота\", \"Забрать посылку\"]\n",
    "}"
   ]
  },
  {
   "cell_type": "code",
   "execution_count": 158,
   "id": "250cd66c",
   "metadata": {},
   "outputs": [
    {
     "name": "stdout",
     "output_type": "stream",
     "text": [
      "{0: ['Покормить кота'], 1: ['Забрать посылку', 'Покормить кота']}\n"
     ]
    }
   ],
   "source": [
    "for key,task_list in tasks.items():\n",
    "    unique_tasks = list(set(task_list))\n",
    "    tasks[key] = unique_tasks\n",
    "print(tasks)"
   ]
  },
  {
   "cell_type": "markdown",
   "id": "f25858f4",
   "metadata": {},
   "source": [
    "#### > Task07. Функции : Капитализация процентов\n",
    "Мы изучили рынок на условия по депозитам, и хотим посчитать во что превратится наш первоначальный взнос `n` лет спустя.\n",
    "\n",
    "Напишите функцию `final_balance`, которая на вход принимает начальную сумму `init_sum`, процентную ставку `interest_rate`, количество лет `years`. Функция должна возвращать сумму по истечении этого срока.\n",
    "\n",
    "|init_sum |\tinterest_rate\t| years|\n",
    "|-----|--------|--------|\n",
    "|1_000_000 |\t14.3\t|10|\n",
    "|1_200_000 |\t 11.5\t|8|\n",
    "|700_000 |\t 9.9\t|3|\n",
    "|825_000 |\t 13.3\t|7|\n",
    "\n",
    "*Учтите, что если процентная ставка 10%, первоначальный взнос 100 000, то по истечению 1 года у вас на счету будет 110 000, и на 2 год вы получите 10% от 110 000 и так далее до конца срока*"
   ]
  },
  {
   "cell_type": "code",
   "execution_count": 53,
   "id": "076b684e",
   "metadata": {},
   "outputs": [],
   "source": [
    "def final_balance(init_sum,interest_rate,years):\n",
    "    if interest_rate >= 1:\n",
    "        final_balance = init_sum*(1 + interest_rate/100)**years\n",
    "    else:\n",
    "        final_balance = init_sum*(1 + interest_rate)**years\n",
    "    return final_balance"
   ]
  },
  {
   "cell_type": "code",
   "execution_count": 54,
   "id": "3415d71e",
   "metadata": {},
   "outputs": [
    {
     "data": {
      "text/plain": [
       "1030.3010000000002"
      ]
     },
     "execution_count": 54,
     "metadata": {},
     "output_type": "execute_result"
    }
   ],
   "source": [
    "final_balance(1000,1,3)"
   ]
  },
  {
   "cell_type": "markdown",
   "id": "ac6987d7",
   "metadata": {},
   "source": [
    "#### > Task08. Ошибки и их обработка \n",
    "Напишите функцию `sum_as_ints`, которая принимает на вход **список** из строк, пытается привести их к целому числу через `int(element)` и считает сумму. Список может содержать любые данные, но если они не приводятся через `int(element)`, то программа должна их отбросить.\n",
    "\n",
    "Вы можете попробовать выполнить `int(\"hello\")`, `int(\"3.14\")`, `int(\"2,2\")` и увидеть, какие исключения выбрасывает программа. После этого можно обработать эти исключения у себя в функции."
   ]
  },
  {
   "cell_type": "code",
   "execution_count": 119,
   "id": "060366e8",
   "metadata": {},
   "outputs": [],
   "source": [
    "numbers = [\"1\",\"2\",\"3\",\"4\",\"Hello\",\"2.9\",\"3.333\"]\n",
    "a = [\"100\",\"Hello\",\"3.4\",\"35\",\"4.1\"]\n",
    "ints = []"
   ]
  },
  {
   "cell_type": "code",
   "execution_count": 120,
   "id": "5823dbcb",
   "metadata": {},
   "outputs": [],
   "source": [
    "def sum_as_ints(x):\n",
    "    for i in x:\n",
    "        try:\n",
    "            ints.append(int(float(i)))\n",
    "        except (ValueError, TypeError):\n",
    "            ints.append(0)\n",
    "    print(sum(ints))"
   ]
  },
  {
   "cell_type": "code",
   "execution_count": 121,
   "id": "5aca37e6",
   "metadata": {
    "scrolled": true
   },
   "outputs": [
    {
     "name": "stdout",
     "output_type": "stream",
     "text": [
      "142\n"
     ]
    }
   ],
   "source": [
    "sum_as_ints(a)"
   ]
  },
  {
   "cell_type": "markdown",
   "id": "fd263f96",
   "metadata": {},
   "source": [
    "#### > Task09. Срезы\n",
    "В этом задании Вам понадобится написать функцию `find_substr`,  которая принимает на вход два аргумента: подстроку (любой длины) и строку, в которой нужно ее искать, и возвращает **кортеж**, представляющий собой пару [start, stop) первой позиции, где найдено слово.\n",
    "\n",
    "Например:\n",
    "```python\n",
    "find_substr(\"мы\", \"Летом мы хотим отдыхать на море\")\n",
    "# Output:\n",
    "(6, 8) \n",
    "\n",
    "find_substr(\"ма\", \"маленькая машина\")\n",
    "# Output:\n",
    "(0, 2)\n",
    "\n",
    "```"
   ]
  },
  {
   "cell_type": "code",
   "execution_count": 122,
   "id": "d588b096",
   "metadata": {},
   "outputs": [],
   "source": [
    "def find_substr(substring,string):\n",
    "    start = string.find(substring)\n",
    "    \n",
    "    if start == -1:\n",
    "        return(-1,-1)\n",
    "    \n",
    "    stop = len(substring) + start\n",
    "    return (start,stop)"
   ]
  },
  {
   "cell_type": "code",
   "execution_count": 125,
   "id": "1dbbfa40",
   "metadata": {},
   "outputs": [
    {
     "data": {
      "text/plain": [
       "(4, 8)"
      ]
     },
     "execution_count": 125,
     "metadata": {},
     "output_type": "execute_result"
    }
   ],
   "source": [
    "find_substr(\"we\",\"Aren't we?\")\n",
    "find_substr(\"many\",\"How many years ago?\")"
   ]
  },
  {
   "cell_type": "markdown",
   "id": "43e13982",
   "metadata": {},
   "source": [
    "#### > Task10. Строки\n",
    "В этом задании необходимо написать функцию `check_string`, которая сначала проверяет:\n",
    "1. наличие лишних символов пробела слева и справа. Если есть лишние пробелы, то тогда мы считаем строку неверной;\n",
    "1. что только первое слово начинается с большой буквы, а остальные с маленькой; \n",
    "1. что последний символ последнего элемента является точкой.\n",
    "\n",
    "Например:\n",
    "```python\n",
    "def check_string(string):\n",
    "    <...>\n",
    "    return result\n",
    "\n",
    "check_string('В этом году будет особенно теплое море.')\n",
    "True\n",
    "check_string('В этом году будет особенно теплое Mоре.')\n",
    "False\n",
    "check_string('В этом году будет особенно теплое море')\n",
    "False\n",
    "check_string(' В этом году будет особенно теплое море')\n",
    "False\n",
    "```"
   ]
  },
  {
   "cell_type": "code",
   "execution_count": 139,
   "id": "8a7ab4ee",
   "metadata": {},
   "outputs": [],
   "source": [
    "def check_string(string):\n",
    "    if string.strip() != string:\n",
    "        return False\n",
    "    \n",
    "    words = string.split()\n",
    "    if not words or not string.endswith('.'):\n",
    "        return False\n",
    "    \n",
    "    if not (words[0][0].isupper() and words[0][1:].islower()):\n",
    "        return False\n",
    "    \n",
    "    for word in words[1:]:\n",
    "        if not word.islower():\n",
    "            return False\n",
    "        \n",
    "    return True"
   ]
  },
  {
   "cell_type": "code",
   "execution_count": 148,
   "id": "a5d94a00",
   "metadata": {},
   "outputs": [
    {
     "data": {
      "text/plain": [
       "True"
      ]
     },
     "execution_count": 148,
     "metadata": {},
     "output_type": "execute_result"
    }
   ],
   "source": [
    "check_string(\"We are in the car.\")"
   ]
  }
 ],
 "metadata": {
  "kernelspec": {
   "display_name": "Python 3 (ipykernel)",
   "language": "python",
   "name": "python3"
  },
  "language_info": {
   "codemirror_mode": {
    "name": "ipython",
    "version": 3
   },
   "file_extension": ".py",
   "mimetype": "text/x-python",
   "name": "python",
   "nbconvert_exporter": "python",
   "pygments_lexer": "ipython3",
   "version": "3.9.13"
  }
 },
 "nbformat": 4,
 "nbformat_minor": 5
}
