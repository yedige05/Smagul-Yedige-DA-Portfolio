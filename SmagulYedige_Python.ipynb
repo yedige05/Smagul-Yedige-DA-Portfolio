{
 "cells": [
  {
   "cell_type": "markdown",
   "id": "b853c1a0",
   "metadata": {},
   "source": [
    "# Проектная работа по Introduction to Python"
   ]
  },
  {
   "cell_type": "markdown",
   "id": "1a698f88",
   "metadata": {},
   "source": [
    "#### > Task01:\n",
    "\n",
    "Create 2 variables `name`, `age`  and enter any name and age.\n",
    "\n",
    "Then print them through f-string.\n",
    "\n",
    "\n",
    "Desired output:\n",
    "```python\n",
    "    My name is <name>. I am <age> years old.\n",
    "```"
   ]
  },
  {
   "cell_type": "code",
   "execution_count": 2,
   "id": "75d81187",
   "metadata": {},
   "outputs": [
    {
     "name": "stdout",
     "output_type": "stream",
     "text": [
      "My name is Yedige. I am 22 years old.\n"
     ]
    }
   ],
   "source": [
    "name = 'Yedige'\n",
    "age = 22\n",
    "print (f\"My name is {name}. I am {age} years old.\")"
   ]
  },
  {
   "cell_type": "markdown",
   "id": "dad5baa9",
   "metadata": {},
   "source": [
    "#### > Task02:\n",
    "\n",
    "Imagine you have `total_money` amount of money. You are buying jam jars. \n",
    "Every jar costs `price` (`price > 0`). Figure out how many jars you can purchase\n",
    "\n",
    "\n",
    "```python\n",
    "total_money = 5000 \n",
    "price = 1579\n",
    "```"
   ]
  },
  {
   "cell_type": "code",
   "execution_count": 4,
   "id": "3299f348",
   "metadata": {},
   "outputs": [
    {
     "name": "stdout",
     "output_type": "stream",
     "text": [
      "3\n"
     ]
    }
   ],
   "source": [
    "total_money = 5000 \n",
    "price = 1579\n",
    "jar_count = total_money//price\n",
    "print(jar_count)"
   ]
  },
  {
   "cell_type": "markdown",
   "id": "bd2a6b51",
   "metadata": {},
   "source": [
    "#### > Task03:\n",
    "\n",
    "Solve the equation\n",
    "ax<sup>2</sup> + bx + c = 0\n",
    "\n",
    "Example:\n",
    "\n",
    "3x<sup>2</sup> + 7x − 10 = 0\n",
    "\n",
    "In this example a=3, b=7, c=−10.\n",
    "\n",
    "These equations have 2 solutions\n",
    "\n",
    "$$ x_1 = {-b + \\sqrt{b^2-4ac} \\over 2a} $$ $$ x_2 = {-b - \\sqrt{b^2-4ac} \\over 2a} $$\n",
    "\n",
    "**Objective:** you have a, b, and c find both roots of the equation<br>\n",
    "```python\n",
    "a = [6, 2, -4, 20]\n",
    "b = [11, -4, -7, -15]\n",
    "c = [-35, -2, 12, -10]\n",
    "```"
   ]
  },
  {
   "cell_type": "code",
   "execution_count": 43,
   "id": "fdcf4e01",
   "metadata": {},
   "outputs": [],
   "source": [
    "a = [6, 2, -4, 20]\n",
    "b = [11, -4, -7, -15]\n",
    "c = [-35, -2, 12, -10]\n",
    "\n",
    "x_1 = []\n",
    "x_2 = []"
   ]
  },
  {
   "cell_type": "code",
   "execution_count": 44,
   "id": "47182826",
   "metadata": {
    "scrolled": true
   },
   "outputs": [
    {
     "name": "stdout",
     "output_type": "stream",
     "text": [
      "[1.6666666666666667, 2.414213562373095, -2.8155218370325032, 1.175390529679106]\n",
      "[-3.5, -0.41421356237309515, 1.065521837032503, -0.42539052967910607]\n"
     ]
    }
   ],
   "source": [
    "import math\n",
    "\n",
    "for i in range(len(a)):\n",
    "    discriminant = b[i]**2 - 4*a[i]*c[i]\n",
    "\n",
    "    root1 = (-b[i]+ math.sqrt(discriminant))/(2*a[i])\n",
    "    root2 = (-b[i]- math.sqrt(discriminant))/(2*a[i])\n",
    "    \n",
    "    x_1.append(root1)\n",
    "    x_2.append(root2)\n",
    "\n",
    "print(x_1)\n",
    "print(x_2)"
   ]
  },
  {
   "cell_type": "markdown",
   "id": "565da3fc",
   "metadata": {},
   "source": [
    "#### > Task04:\n",
    "We have 2 To-do lists: `tasks_my` и `tasks_friend`.\n",
    "\n",
    "Merge these lists into 1\n",
    "\n",
    "```python\n",
    "tasks_my = ['Do the homework', 'Buy groceries', 'Read a book']\n",
    "tasks_friend = ['Read a book', 'Go to university', 'Wash the car']\n",
    "```"
   ]
  },
  {
   "cell_type": "code",
   "execution_count": 1,
   "id": "3b441477",
   "metadata": {},
   "outputs": [
    {
     "name": "stdout",
     "output_type": "stream",
     "text": [
      "{'Buy groceries', 'Read a book', 'Do the homework', 'Go to university', 'Wash the car'}\n"
     ]
    }
   ],
   "source": [
    "tasks_my = ['Do the homework', 'Buy groceries', 'Read a book']\n",
    "tasks_friend = ['Read a book', 'Go to university', 'Wash the car']\n",
    "tasks_all = tasks_my + tasks_friend\n",
    "print(set(tasks_all))"
   ]
  },
  {
   "cell_type": "markdown",
   "id": "431c4d55",
   "metadata": {},
   "source": [
    "#### > Task05:\n",
    "Create the priroty queue in this To-do list.\n",
    "\n",
    "Create a dictionary. The structure is as follows:\n",
    "\n",
    "| Priority\t| Task |\n",
    "| ----- | ------ |\n",
    "| 0 | Feed a cat |\n",
    "| 1 | Do the homework |\n",
    "| 2 | Read a Data Analytics Book |\n",
    "| 3 | Buy Groceries |\n",
    "| 4 |  Clean the house |\n",
    "\n"
   ]
  },
  {
   "cell_type": "code",
   "execution_count": 2,
   "id": "8745e9b6",
   "metadata": {},
   "outputs": [
    {
     "data": {
      "text/html": [
       "<div>\n",
       "<style scoped>\n",
       "    .dataframe tbody tr th:only-of-type {\n",
       "        vertical-align: middle;\n",
       "    }\n",
       "\n",
       "    .dataframe tbody tr th {\n",
       "        vertical-align: top;\n",
       "    }\n",
       "\n",
       "    .dataframe thead th {\n",
       "        text-align: right;\n",
       "    }\n",
       "</style>\n",
       "<table border=\"1\" class=\"dataframe\">\n",
       "  <thead>\n",
       "    <tr style=\"text-align: right;\">\n",
       "      <th></th>\n",
       "      <th>Priority</th>\n",
       "      <th>Task</th>\n",
       "    </tr>\n",
       "  </thead>\n",
       "  <tbody>\n",
       "    <tr>\n",
       "      <th>0</th>\n",
       "      <td>0</td>\n",
       "      <td>Feed a cat</td>\n",
       "    </tr>\n",
       "    <tr>\n",
       "      <th>1</th>\n",
       "      <td>1</td>\n",
       "      <td>Do the homework</td>\n",
       "    </tr>\n",
       "    <tr>\n",
       "      <th>2</th>\n",
       "      <td>2</td>\n",
       "      <td>Read a Data Analytics Book</td>\n",
       "    </tr>\n",
       "    <tr>\n",
       "      <th>3</th>\n",
       "      <td>3</td>\n",
       "      <td>Buy Groceries</td>\n",
       "    </tr>\n",
       "    <tr>\n",
       "      <th>4</th>\n",
       "      <td>4</td>\n",
       "      <td>Clean the house</td>\n",
       "    </tr>\n",
       "  </tbody>\n",
       "</table>\n",
       "</div>"
      ],
      "text/plain": [
       "   Priority                        Task\n",
       "0         0                  Feed a cat\n",
       "1         1             Do the homework\n",
       "2         2  Read a Data Analytics Book\n",
       "3         3               Buy Groceries\n",
       "4         4            Clean the house "
      ]
     },
     "execution_count": 2,
     "metadata": {},
     "output_type": "execute_result"
    }
   ],
   "source": [
    "import pandas as pd\n",
    "my_tasks = {\"Priority\":[0,1,2,3,4],\n",
    "           \"Task\":['Feed a cat', 'Do the homework', 'Read a Data Analytics Book', 'Buy Groceries','Clean the house ']}\n",
    "df = pd.DataFrame(my_tasks)\n",
    "df"
   ]
  },
  {
   "cell_type": "markdown",
   "id": "dc057f95",
   "metadata": {},
   "source": [
    "#### > Task06:\n",
    "The past week has been tough, and you constantly had to hurriedly add new tasks to your notebook. Now, the same task may be duplicated in your notebook! Deadlines are looming, so you are ready to tackle tasks without worrying about their order.\n",
    "\n",
    "You are given a dictionary of tasks tasks. Go through all the keys and remove duplicates only within the values corresponding to each key. Create a new dictionary new_tasks that will have the same keys and tasks, but without duplicates.\n",
    "\n",
    "```python\n",
    "tasks = { \n",
    "    0: [\"Feed the cat\", \"Feed the cat\"],\n",
    "    1: [\"Feed the cat\", \"Pick up the package\"]\n",
    "}\n",
    "\n",
    "# Result\n",
    "new_tasks = {\n",
    "    0: ['Feed the cat'],\n",
    "    1: ['Feed the cat', 'Pick up the package']\n",
    "}\n",
    "\n",
    "```"
   ]
  },
  {
   "cell_type": "code",
   "execution_count": 3,
   "id": "4288dd8a",
   "metadata": {},
   "outputs": [],
   "source": [
    "tasks = { \n",
    "    0: [\"Feed the cat\", \"Feed the cat\"],\n",
    "    1: [\"Feed the cat\", \"Pick up the package\"]\n",
    "}"
   ]
  },
  {
   "cell_type": "code",
   "execution_count": 4,
   "id": "250cd66c",
   "metadata": {},
   "outputs": [
    {
     "name": "stdout",
     "output_type": "stream",
     "text": [
      "{0: ['Feed the cat'], 1: ['Pick up the package', 'Feed the cat']}\n"
     ]
    }
   ],
   "source": [
    "for key,task_list in tasks.items():\n",
    "    unique_tasks = list(set(task_list))\n",
    "    tasks[key] = unique_tasks\n",
    "print(tasks)"
   ]
  },
  {
   "cell_type": "markdown",
   "id": "f25858f4",
   "metadata": {},
   "source": [
    "#### > Task07:\n",
    "We studied the market conditions for deposits and want to calculate what our initial deposit will turn into n years later.\n",
    "\n",
    "Write a function final_balance that takes the initial amount init_sum, the interest rate interest_rate, and the number of years years as input. The function should return the amount after this period.\n",
    "\n",
    "|init_sum |\tinterest_rate\t| years|\n",
    "|-----|--------|--------|\n",
    "|1_000_000 |\t14.3\t|10|\n",
    "|1_200_000 |\t 11.5\t|8|\n",
    "|700_000 |\t 9.9\t|3|\n",
    "|825_000 |\t 13.3\t|7|\n",
    "\n",
    "*compound interest case"
   ]
  },
  {
   "cell_type": "code",
   "execution_count": 5,
   "id": "076b684e",
   "metadata": {},
   "outputs": [],
   "source": [
    "def final_balance(init_sum,interest_rate,years):\n",
    "    if interest_rate >= 1:\n",
    "        final_balance = init_sum*(1 + interest_rate/100)**years\n",
    "    else:\n",
    "        final_balance = init_sum*(1 + interest_rate)**years\n",
    "    return final_balance"
   ]
  },
  {
   "cell_type": "code",
   "execution_count": 6,
   "id": "3415d71e",
   "metadata": {},
   "outputs": [
    {
     "data": {
      "text/plain": [
       "1030.3010000000002"
      ]
     },
     "execution_count": 6,
     "metadata": {},
     "output_type": "execute_result"
    }
   ],
   "source": [
    "final_balance(1000,1,3)"
   ]
  },
  {
   "cell_type": "markdown",
   "id": "ac6987d7",
   "metadata": {},
   "source": [
    "#### > Task08. Ошибки и их обработка \n",
    "Create a function called `sum_as_ints`, which accepts **a list** of strings, turns them into integers through `int(element)` and computes their sum. List may contain any values, but if they are not convertible to integer through `int(element)`, the function should drop them."
   ]
  },
  {
   "cell_type": "code",
   "execution_count": 7,
   "id": "060366e8",
   "metadata": {},
   "outputs": [],
   "source": [
    "numbers = [\"1\",\"2\",\"3\",\"4\",\"Hello\",\"2.9\",\"3.333\"]\n",
    "a = [\"100\",\"Hello\",\"3.4\",\"35\",\"4.1\"]\n",
    "ints = []"
   ]
  },
  {
   "cell_type": "code",
   "execution_count": 8,
   "id": "5823dbcb",
   "metadata": {},
   "outputs": [],
   "source": [
    "def sum_as_ints(x):\n",
    "    for i in x:\n",
    "        try:\n",
    "            ints.append(int(float(i)))\n",
    "        except (ValueError, TypeError):\n",
    "            ints.append(0)\n",
    "    print(sum(ints))"
   ]
  },
  {
   "cell_type": "code",
   "execution_count": 9,
   "id": "5aca37e6",
   "metadata": {
    "scrolled": true
   },
   "outputs": [
    {
     "name": "stdout",
     "output_type": "stream",
     "text": [
      "142\n"
     ]
    }
   ],
   "source": [
    "sum_as_ints(a)"
   ]
  },
  {
   "cell_type": "markdown",
   "id": "fd263f96",
   "metadata": {},
   "source": [
    "#### > Task09:\n",
    "You need to create a function called `find_substr`,  which accepts 2 arguments: substring (any length) and string which contains the substring value to look for, and returns **a tuple**, which is [start, stop) the first position where the substring is found.\n",
    "\n",
    "Example:\n",
    "```python\n",
    "find_substr(\"We\", \"We are going on a beach\")\n",
    "# Output:\n",
    "(0, 2) \n",
    "\n",
    "find_substr(\"sm\", \"small car\")\n",
    "# Output:\n",
    "(0, 2)\n",
    "\n",
    "```"
   ]
  },
  {
   "cell_type": "code",
   "execution_count": 10,
   "id": "d588b096",
   "metadata": {},
   "outputs": [],
   "source": [
    "def find_substr(substring,string):\n",
    "    start = string.find(substring)\n",
    "    \n",
    "    if start == -1:\n",
    "        return(-1,-1)\n",
    "    \n",
    "    stop = len(substring) + start\n",
    "    return (start,stop)"
   ]
  },
  {
   "cell_type": "code",
   "execution_count": 11,
   "id": "1dbbfa40",
   "metadata": {},
   "outputs": [
    {
     "data": {
      "text/plain": [
       "(4, 8)"
      ]
     },
     "execution_count": 11,
     "metadata": {},
     "output_type": "execute_result"
    }
   ],
   "source": [
    "find_substr(\"we\",\"Aren't we?\")\n",
    "find_substr(\"many\",\"How many years ago?\")"
   ]
  },
  {
   "cell_type": "markdown",
   "id": "43e13982",
   "metadata": {},
   "source": [
    "#### > Task10. Строки\n",
    "You need to create a function called `check_string`, which checks the string for:\n",
    "1. unnecessary spaces. In case there are, the string is False;\n",
    "1. the first word should start with a capital letter; \n",
    "1. the last symbol of the string is a dot.\n",
    "\n",
    "Example:\n",
    "```python\n",
    "def check_string(string):\n",
    "    <...>\n",
    "    return result\n",
    "\n",
    "check_string('I am going to work today.')\n",
    "True\n",
    "check_string('I am going to work Today.')\n",
    "False\n",
    "check_string('I am going to work today')\n",
    "False\n",
    "check_string(' I am going to work today.')\n",
    "False\n",
    "```"
   ]
  },
  {
   "cell_type": "code",
   "execution_count": 12,
   "id": "8a7ab4ee",
   "metadata": {},
   "outputs": [],
   "source": [
    "def check_string(string):\n",
    "    if string.strip() != string:\n",
    "        return False\n",
    "    \n",
    "    words = string.split()\n",
    "    if not words or not string.endswith('.'):\n",
    "        return False\n",
    "    \n",
    "    if not (words[0][0].isupper() and words[0][1:].islower()):\n",
    "        return False\n",
    "    \n",
    "    for word in words[1:]:\n",
    "        if not word.islower():\n",
    "            return False\n",
    "        \n",
    "    return True"
   ]
  },
  {
   "cell_type": "code",
   "execution_count": 13,
   "id": "a5d94a00",
   "metadata": {},
   "outputs": [
    {
     "data": {
      "text/plain": [
       "True"
      ]
     },
     "execution_count": 13,
     "metadata": {},
     "output_type": "execute_result"
    }
   ],
   "source": [
    "check_string(\"We are in the car.\")"
   ]
  }
 ],
 "metadata": {
  "kernelspec": {
   "display_name": "Python 3 (ipykernel)",
   "language": "python",
   "name": "python3"
  },
  "language_info": {
   "codemirror_mode": {
    "name": "ipython",
    "version": 3
   },
   "file_extension": ".py",
   "mimetype": "text/x-python",
   "name": "python",
   "nbconvert_exporter": "python",
   "pygments_lexer": "ipython3",
   "version": "3.9.13"
  }
 },
 "nbformat": 4,
 "nbformat_minor": 5
}
