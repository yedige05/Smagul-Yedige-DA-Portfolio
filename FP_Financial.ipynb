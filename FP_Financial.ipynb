{
 "cells": [
  {
   "cell_type": "code",
   "execution_count": 5,
   "id": "054cf6e4-ad16-4b7e-9f6f-554405601c76",
   "metadata": {},
   "outputs": [],
   "source": [
    "import pandas as pd\n",
    "import numpy as np\n",
    "import matplotlib.pyplot as plt\n",
    "import seaborn as sns\n",
    "import os"
   ]
  },
  {
   "cell_type": "code",
   "execution_count": 11,
   "id": "15c1f707-a01c-4b57-950a-ec0dba3961e0",
   "metadata": {
    "tags": []
   },
   "outputs": [
    {
     "name": "stderr",
     "output_type": "stream",
     "text": [
      "/var/folders/3y/pvr6m9fj61s8tcswhcx55svh0000gn/T/ipykernel_76411/863204250.py:11: FutureWarning: The frame.append method is deprecated and will be removed from pandas in a future version. Use pandas.concat instead.\n",
      "  combined_data = combined_data.append(data)\n",
      "/var/folders/3y/pvr6m9fj61s8tcswhcx55svh0000gn/T/ipykernel_76411/863204250.py:11: FutureWarning: The frame.append method is deprecated and will be removed from pandas in a future version. Use pandas.concat instead.\n",
      "  combined_data = combined_data.append(data)\n"
     ]
    }
   ],
   "source": [
    "directory = '/Users/edygesmagul/Desktop/Yedige/Codes/Python Scripts/Critters/Python Final Project'\n",
    "\n",
    "file_names = ['Test.csv', 'Train.csv']\n",
    "\n",
    "combined_data = pd.DataFrame()\n",
    "\n",
    "for file_name in file_names:\n",
    "    file_path = os.path.join(directory, file_name)\n",
    "    data = pd.read_csv(file_path)\n",
    "    \n",
    "    combined_data = combined_data.append(data)\n",
    "\n",
    "output_file_path = os.path.join(directory, 'CombinedData.csv')\n",
    "combined_data.to_csv(output_file_path, index=False)"
   ]
  },
  {
   "cell_type": "code",
   "execution_count": 17,
   "id": "0f9d1e72",
   "metadata": {},
   "outputs": [],
   "source": [
    "os.chdir('/Users/edygesmagul/Desktop/Yedige/Codes/Python Scripts/Critters/Python Final Project')"
   ]
  },
  {
   "cell_type": "code",
   "execution_count": 18,
   "id": "2ac6021a-5bf4-4718-9f09-5b848a1714e0",
   "metadata": {
    "tags": []
   },
   "outputs": [
    {
     "data": {
      "text/html": [
       "<div>\n",
       "<style scoped>\n",
       "    .dataframe tbody tr th:only-of-type {\n",
       "        vertical-align: middle;\n",
       "    }\n",
       "\n",
       "    .dataframe tbody tr th {\n",
       "        vertical-align: top;\n",
       "    }\n",
       "\n",
       "    .dataframe thead th {\n",
       "        text-align: right;\n",
       "    }\n",
       "</style>\n",
       "<table border=\"1\" class=\"dataframe\">\n",
       "  <thead>\n",
       "    <tr style=\"text-align: right;\">\n",
       "      <th></th>\n",
       "      <th>country</th>\n",
       "      <th>year</th>\n",
       "      <th>uniqueid</th>\n",
       "      <th>location_type</th>\n",
       "      <th>cellphone_access</th>\n",
       "      <th>household_size</th>\n",
       "      <th>age_of_respondent</th>\n",
       "      <th>gender_of_respondent</th>\n",
       "      <th>relationship_with_head</th>\n",
       "      <th>marital_status</th>\n",
       "      <th>education_level</th>\n",
       "      <th>job_type</th>\n",
       "      <th>bank_account</th>\n",
       "    </tr>\n",
       "  </thead>\n",
       "  <tbody>\n",
       "    <tr>\n",
       "      <th>0</th>\n",
       "      <td>Kenya</td>\n",
       "      <td>2018</td>\n",
       "      <td>uniqueid_6056</td>\n",
       "      <td>Urban</td>\n",
       "      <td>Yes</td>\n",
       "      <td>3</td>\n",
       "      <td>30</td>\n",
       "      <td>Male</td>\n",
       "      <td>Head of Household</td>\n",
       "      <td>Married/Living together</td>\n",
       "      <td>Secondary education</td>\n",
       "      <td>Formally employed Government</td>\n",
       "      <td>NaN</td>\n",
       "    </tr>\n",
       "    <tr>\n",
       "      <th>1</th>\n",
       "      <td>Kenya</td>\n",
       "      <td>2018</td>\n",
       "      <td>uniqueid_6060</td>\n",
       "      <td>Urban</td>\n",
       "      <td>Yes</td>\n",
       "      <td>7</td>\n",
       "      <td>51</td>\n",
       "      <td>Male</td>\n",
       "      <td>Head of Household</td>\n",
       "      <td>Married/Living together</td>\n",
       "      <td>Vocational/Specialised training</td>\n",
       "      <td>Formally employed Private</td>\n",
       "      <td>NaN</td>\n",
       "    </tr>\n",
       "    <tr>\n",
       "      <th>2</th>\n",
       "      <td>Kenya</td>\n",
       "      <td>2018</td>\n",
       "      <td>uniqueid_6065</td>\n",
       "      <td>Rural</td>\n",
       "      <td>No</td>\n",
       "      <td>3</td>\n",
       "      <td>77</td>\n",
       "      <td>Female</td>\n",
       "      <td>Parent</td>\n",
       "      <td>Married/Living together</td>\n",
       "      <td>No formal education</td>\n",
       "      <td>Remittance Dependent</td>\n",
       "      <td>NaN</td>\n",
       "    </tr>\n",
       "    <tr>\n",
       "      <th>3</th>\n",
       "      <td>Kenya</td>\n",
       "      <td>2018</td>\n",
       "      <td>uniqueid_6072</td>\n",
       "      <td>Rural</td>\n",
       "      <td>No</td>\n",
       "      <td>6</td>\n",
       "      <td>39</td>\n",
       "      <td>Female</td>\n",
       "      <td>Head of Household</td>\n",
       "      <td>Married/Living together</td>\n",
       "      <td>Primary education</td>\n",
       "      <td>Remittance Dependent</td>\n",
       "      <td>NaN</td>\n",
       "    </tr>\n",
       "    <tr>\n",
       "      <th>4</th>\n",
       "      <td>Kenya</td>\n",
       "      <td>2018</td>\n",
       "      <td>uniqueid_6073</td>\n",
       "      <td>Urban</td>\n",
       "      <td>No</td>\n",
       "      <td>3</td>\n",
       "      <td>16</td>\n",
       "      <td>Male</td>\n",
       "      <td>Child</td>\n",
       "      <td>Single/Never Married</td>\n",
       "      <td>Secondary education</td>\n",
       "      <td>Remittance Dependent</td>\n",
       "      <td>NaN</td>\n",
       "    </tr>\n",
       "    <tr>\n",
       "      <th>...</th>\n",
       "      <td>...</td>\n",
       "      <td>...</td>\n",
       "      <td>...</td>\n",
       "      <td>...</td>\n",
       "      <td>...</td>\n",
       "      <td>...</td>\n",
       "      <td>...</td>\n",
       "      <td>...</td>\n",
       "      <td>...</td>\n",
       "      <td>...</td>\n",
       "      <td>...</td>\n",
       "      <td>...</td>\n",
       "      <td>...</td>\n",
       "    </tr>\n",
       "    <tr>\n",
       "      <th>33605</th>\n",
       "      <td>Uganda</td>\n",
       "      <td>2018</td>\n",
       "      <td>uniqueid_2113</td>\n",
       "      <td>Rural</td>\n",
       "      <td>Yes</td>\n",
       "      <td>4</td>\n",
       "      <td>48</td>\n",
       "      <td>Female</td>\n",
       "      <td>Head of Household</td>\n",
       "      <td>Divorced/Seperated</td>\n",
       "      <td>No formal education</td>\n",
       "      <td>Other Income</td>\n",
       "      <td>No</td>\n",
       "    </tr>\n",
       "    <tr>\n",
       "      <th>33606</th>\n",
       "      <td>Uganda</td>\n",
       "      <td>2018</td>\n",
       "      <td>uniqueid_2114</td>\n",
       "      <td>Rural</td>\n",
       "      <td>Yes</td>\n",
       "      <td>2</td>\n",
       "      <td>27</td>\n",
       "      <td>Female</td>\n",
       "      <td>Head of Household</td>\n",
       "      <td>Single/Never Married</td>\n",
       "      <td>Secondary education</td>\n",
       "      <td>Other Income</td>\n",
       "      <td>No</td>\n",
       "    </tr>\n",
       "    <tr>\n",
       "      <th>33607</th>\n",
       "      <td>Uganda</td>\n",
       "      <td>2018</td>\n",
       "      <td>uniqueid_2115</td>\n",
       "      <td>Rural</td>\n",
       "      <td>Yes</td>\n",
       "      <td>5</td>\n",
       "      <td>27</td>\n",
       "      <td>Female</td>\n",
       "      <td>Parent</td>\n",
       "      <td>Widowed</td>\n",
       "      <td>Primary education</td>\n",
       "      <td>Other Income</td>\n",
       "      <td>No</td>\n",
       "    </tr>\n",
       "    <tr>\n",
       "      <th>33608</th>\n",
       "      <td>Uganda</td>\n",
       "      <td>2018</td>\n",
       "      <td>uniqueid_2116</td>\n",
       "      <td>Urban</td>\n",
       "      <td>Yes</td>\n",
       "      <td>7</td>\n",
       "      <td>30</td>\n",
       "      <td>Female</td>\n",
       "      <td>Parent</td>\n",
       "      <td>Divorced/Seperated</td>\n",
       "      <td>Secondary education</td>\n",
       "      <td>Self employed</td>\n",
       "      <td>No</td>\n",
       "    </tr>\n",
       "    <tr>\n",
       "      <th>33609</th>\n",
       "      <td>Uganda</td>\n",
       "      <td>2018</td>\n",
       "      <td>uniqueid_2117</td>\n",
       "      <td>Rural</td>\n",
       "      <td>Yes</td>\n",
       "      <td>10</td>\n",
       "      <td>20</td>\n",
       "      <td>Male</td>\n",
       "      <td>Child</td>\n",
       "      <td>Single/Never Married</td>\n",
       "      <td>Secondary education</td>\n",
       "      <td>No Income</td>\n",
       "      <td>No</td>\n",
       "    </tr>\n",
       "  </tbody>\n",
       "</table>\n",
       "<p>33610 rows × 13 columns</p>\n",
       "</div>"
      ],
      "text/plain": [
       "      country  year       uniqueid location_type cellphone_access  \\\n",
       "0       Kenya  2018  uniqueid_6056         Urban              Yes   \n",
       "1       Kenya  2018  uniqueid_6060         Urban              Yes   \n",
       "2       Kenya  2018  uniqueid_6065         Rural               No   \n",
       "3       Kenya  2018  uniqueid_6072         Rural               No   \n",
       "4       Kenya  2018  uniqueid_6073         Urban               No   \n",
       "...       ...   ...            ...           ...              ...   \n",
       "33605  Uganda  2018  uniqueid_2113         Rural              Yes   \n",
       "33606  Uganda  2018  uniqueid_2114         Rural              Yes   \n",
       "33607  Uganda  2018  uniqueid_2115         Rural              Yes   \n",
       "33608  Uganda  2018  uniqueid_2116         Urban              Yes   \n",
       "33609  Uganda  2018  uniqueid_2117         Rural              Yes   \n",
       "\n",
       "       household_size  age_of_respondent gender_of_respondent  \\\n",
       "0                   3                 30                 Male   \n",
       "1                   7                 51                 Male   \n",
       "2                   3                 77               Female   \n",
       "3                   6                 39               Female   \n",
       "4                   3                 16                 Male   \n",
       "...               ...                ...                  ...   \n",
       "33605               4                 48               Female   \n",
       "33606               2                 27               Female   \n",
       "33607               5                 27               Female   \n",
       "33608               7                 30               Female   \n",
       "33609              10                 20                 Male   \n",
       "\n",
       "      relationship_with_head           marital_status  \\\n",
       "0          Head of Household  Married/Living together   \n",
       "1          Head of Household  Married/Living together   \n",
       "2                     Parent  Married/Living together   \n",
       "3          Head of Household  Married/Living together   \n",
       "4                      Child     Single/Never Married   \n",
       "...                      ...                      ...   \n",
       "33605      Head of Household       Divorced/Seperated   \n",
       "33606      Head of Household     Single/Never Married   \n",
       "33607                 Parent                  Widowed   \n",
       "33608                 Parent       Divorced/Seperated   \n",
       "33609                  Child     Single/Never Married   \n",
       "\n",
       "                       education_level                      job_type  \\\n",
       "0                  Secondary education  Formally employed Government   \n",
       "1      Vocational/Specialised training     Formally employed Private   \n",
       "2                  No formal education          Remittance Dependent   \n",
       "3                    Primary education          Remittance Dependent   \n",
       "4                  Secondary education          Remittance Dependent   \n",
       "...                                ...                           ...   \n",
       "33605              No formal education                  Other Income   \n",
       "33606              Secondary education                  Other Income   \n",
       "33607                Primary education                  Other Income   \n",
       "33608              Secondary education                 Self employed   \n",
       "33609              Secondary education                     No Income   \n",
       "\n",
       "      bank_account  \n",
       "0              NaN  \n",
       "1              NaN  \n",
       "2              NaN  \n",
       "3              NaN  \n",
       "4              NaN  \n",
       "...            ...  \n",
       "33605           No  \n",
       "33606           No  \n",
       "33607           No  \n",
       "33608           No  \n",
       "33609           No  \n",
       "\n",
       "[33610 rows x 13 columns]"
      ]
     },
     "execution_count": 18,
     "metadata": {},
     "output_type": "execute_result"
    }
   ],
   "source": [
    "directory = '/Users/edygesmagul/Desktop/Yedige/Codes/Python Scripts/Critters/Python Final Project'\n",
    "df_financial = pd.read_csv('CombinedData.csv') #converting csv file into dataframe\n",
    "df_financial"
   ]
  },
  {
   "cell_type": "code",
   "execution_count": 19,
   "id": "6b1fa712-d628-4ce9-b48c-123a1f1fbd4e",
   "metadata": {
    "tags": []
   },
   "outputs": [
    {
     "data": {
      "text/plain": [
       "Index(['country', 'year', 'uniqueid', 'location_type', 'cellphone_access',\n",
       "       'household_size', 'age_of_respondent', 'gender_of_respondent',\n",
       "       'relationship_with_head', 'marital_status', 'education_level',\n",
       "       'job_type', 'bank_account'],\n",
       "      dtype='object')"
      ]
     },
     "execution_count": 19,
     "metadata": {},
     "output_type": "execute_result"
    }
   ],
   "source": [
    "df_financial.columns #checking column names"
   ]
  },
  {
   "cell_type": "code",
   "execution_count": 20,
   "id": "ead43a75-f308-4a95-8cb1-04db81ce2c75",
   "metadata": {
    "tags": []
   },
   "outputs": [
    {
     "data": {
      "text/plain": [
       "country                       0\n",
       "year                          0\n",
       "uniqueid                      0\n",
       "location_type                 0\n",
       "cellphone_access              0\n",
       "household_size                0\n",
       "age_of_respondent             0\n",
       "gender_of_respondent          0\n",
       "relationship_with_head        0\n",
       "marital_status                0\n",
       "education_level               0\n",
       "job_type                      0\n",
       "bank_account              10086\n",
       "dtype: int64"
      ]
     },
     "execution_count": 20,
     "metadata": {},
     "output_type": "execute_result"
    }
   ],
   "source": [
    "df_financial.isnull().sum() #checking null values"
   ]
  },
  {
   "cell_type": "code",
   "execution_count": 21,
   "id": "84f8d341-07c1-4265-becf-e3440e4a93ce",
   "metadata": {},
   "outputs": [
    {
     "data": {
      "text/plain": [
       "No     20212\n",
       "Yes     3312\n",
       "Name: bank_account, dtype: int64"
      ]
     },
     "execution_count": 21,
     "metadata": {},
     "output_type": "execute_result"
    }
   ],
   "source": [
    "df_financial['bank_account'].value_counts() #checking the values Available"
   ]
  },
  {
   "cell_type": "code",
   "execution_count": 22,
   "id": "f5f2c73b-56ab-4e31-a56d-4a1e86d933cf",
   "metadata": {
    "tags": []
   },
   "outputs": [
    {
     "data": {
      "text/plain": [
       "False    33610\n",
       "Name: bank_account, dtype: int64"
      ]
     },
     "execution_count": 22,
     "metadata": {},
     "output_type": "execute_result"
    }
   ],
   "source": [
    "(df_financial['bank_account'] == 'NaN').value_counts() #checking NaN values"
   ]
  },
  {
   "cell_type": "code",
   "execution_count": 23,
   "id": "a061ca76-d849-4206-9717-4800c4435da4",
   "metadata": {},
   "outputs": [],
   "source": [
    "bank_account1 = df_financial[(df_financial['bank_account']== 'Yes') | (df_financial['bank_account'] == 'No')] #creating a dataset without na values in bank_account column"
   ]
  },
  {
   "cell_type": "code",
   "execution_count": 24,
   "id": "d33e6ecb-d444-4e95-8aa0-b83473ec6b21",
   "metadata": {
    "tags": []
   },
   "outputs": [
    {
     "data": {
      "text/html": [
       "<div>\n",
       "<style scoped>\n",
       "    .dataframe tbody tr th:only-of-type {\n",
       "        vertical-align: middle;\n",
       "    }\n",
       "\n",
       "    .dataframe tbody tr th {\n",
       "        vertical-align: top;\n",
       "    }\n",
       "\n",
       "    .dataframe thead th {\n",
       "        text-align: right;\n",
       "    }\n",
       "</style>\n",
       "<table border=\"1\" class=\"dataframe\">\n",
       "  <thead>\n",
       "    <tr style=\"text-align: right;\">\n",
       "      <th></th>\n",
       "      <th>country</th>\n",
       "      <th>year</th>\n",
       "      <th>uniqueid</th>\n",
       "      <th>location_type</th>\n",
       "      <th>cellphone_access</th>\n",
       "      <th>household_size</th>\n",
       "      <th>age_of_respondent</th>\n",
       "      <th>gender_of_respondent</th>\n",
       "      <th>relationship_with_head</th>\n",
       "      <th>marital_status</th>\n",
       "      <th>education_level</th>\n",
       "      <th>job_type</th>\n",
       "      <th>bank_account</th>\n",
       "    </tr>\n",
       "  </thead>\n",
       "  <tbody>\n",
       "    <tr>\n",
       "      <th>10086</th>\n",
       "      <td>Kenya</td>\n",
       "      <td>2018</td>\n",
       "      <td>uniqueid_1</td>\n",
       "      <td>Rural</td>\n",
       "      <td>Yes</td>\n",
       "      <td>3</td>\n",
       "      <td>24</td>\n",
       "      <td>Female</td>\n",
       "      <td>Spouse</td>\n",
       "      <td>Married/Living together</td>\n",
       "      <td>Secondary education</td>\n",
       "      <td>Self employed</td>\n",
       "      <td>Yes</td>\n",
       "    </tr>\n",
       "    <tr>\n",
       "      <th>10087</th>\n",
       "      <td>Kenya</td>\n",
       "      <td>2018</td>\n",
       "      <td>uniqueid_2</td>\n",
       "      <td>Rural</td>\n",
       "      <td>No</td>\n",
       "      <td>5</td>\n",
       "      <td>70</td>\n",
       "      <td>Female</td>\n",
       "      <td>Head of Household</td>\n",
       "      <td>Widowed</td>\n",
       "      <td>No formal education</td>\n",
       "      <td>Government Dependent</td>\n",
       "      <td>No</td>\n",
       "    </tr>\n",
       "    <tr>\n",
       "      <th>10088</th>\n",
       "      <td>Kenya</td>\n",
       "      <td>2018</td>\n",
       "      <td>uniqueid_3</td>\n",
       "      <td>Urban</td>\n",
       "      <td>Yes</td>\n",
       "      <td>5</td>\n",
       "      <td>26</td>\n",
       "      <td>Male</td>\n",
       "      <td>Other relative</td>\n",
       "      <td>Single/Never Married</td>\n",
       "      <td>Vocational/Specialised training</td>\n",
       "      <td>Self employed</td>\n",
       "      <td>Yes</td>\n",
       "    </tr>\n",
       "    <tr>\n",
       "      <th>10089</th>\n",
       "      <td>Kenya</td>\n",
       "      <td>2018</td>\n",
       "      <td>uniqueid_4</td>\n",
       "      <td>Rural</td>\n",
       "      <td>Yes</td>\n",
       "      <td>5</td>\n",
       "      <td>34</td>\n",
       "      <td>Female</td>\n",
       "      <td>Head of Household</td>\n",
       "      <td>Married/Living together</td>\n",
       "      <td>Primary education</td>\n",
       "      <td>Formally employed Private</td>\n",
       "      <td>No</td>\n",
       "    </tr>\n",
       "    <tr>\n",
       "      <th>10090</th>\n",
       "      <td>Kenya</td>\n",
       "      <td>2018</td>\n",
       "      <td>uniqueid_5</td>\n",
       "      <td>Urban</td>\n",
       "      <td>No</td>\n",
       "      <td>8</td>\n",
       "      <td>26</td>\n",
       "      <td>Male</td>\n",
       "      <td>Child</td>\n",
       "      <td>Single/Never Married</td>\n",
       "      <td>Primary education</td>\n",
       "      <td>Informally employed</td>\n",
       "      <td>No</td>\n",
       "    </tr>\n",
       "    <tr>\n",
       "      <th>...</th>\n",
       "      <td>...</td>\n",
       "      <td>...</td>\n",
       "      <td>...</td>\n",
       "      <td>...</td>\n",
       "      <td>...</td>\n",
       "      <td>...</td>\n",
       "      <td>...</td>\n",
       "      <td>...</td>\n",
       "      <td>...</td>\n",
       "      <td>...</td>\n",
       "      <td>...</td>\n",
       "      <td>...</td>\n",
       "      <td>...</td>\n",
       "    </tr>\n",
       "    <tr>\n",
       "      <th>33605</th>\n",
       "      <td>Uganda</td>\n",
       "      <td>2018</td>\n",
       "      <td>uniqueid_2113</td>\n",
       "      <td>Rural</td>\n",
       "      <td>Yes</td>\n",
       "      <td>4</td>\n",
       "      <td>48</td>\n",
       "      <td>Female</td>\n",
       "      <td>Head of Household</td>\n",
       "      <td>Divorced/Seperated</td>\n",
       "      <td>No formal education</td>\n",
       "      <td>Other Income</td>\n",
       "      <td>No</td>\n",
       "    </tr>\n",
       "    <tr>\n",
       "      <th>33606</th>\n",
       "      <td>Uganda</td>\n",
       "      <td>2018</td>\n",
       "      <td>uniqueid_2114</td>\n",
       "      <td>Rural</td>\n",
       "      <td>Yes</td>\n",
       "      <td>2</td>\n",
       "      <td>27</td>\n",
       "      <td>Female</td>\n",
       "      <td>Head of Household</td>\n",
       "      <td>Single/Never Married</td>\n",
       "      <td>Secondary education</td>\n",
       "      <td>Other Income</td>\n",
       "      <td>No</td>\n",
       "    </tr>\n",
       "    <tr>\n",
       "      <th>33607</th>\n",
       "      <td>Uganda</td>\n",
       "      <td>2018</td>\n",
       "      <td>uniqueid_2115</td>\n",
       "      <td>Rural</td>\n",
       "      <td>Yes</td>\n",
       "      <td>5</td>\n",
       "      <td>27</td>\n",
       "      <td>Female</td>\n",
       "      <td>Parent</td>\n",
       "      <td>Widowed</td>\n",
       "      <td>Primary education</td>\n",
       "      <td>Other Income</td>\n",
       "      <td>No</td>\n",
       "    </tr>\n",
       "    <tr>\n",
       "      <th>33608</th>\n",
       "      <td>Uganda</td>\n",
       "      <td>2018</td>\n",
       "      <td>uniqueid_2116</td>\n",
       "      <td>Urban</td>\n",
       "      <td>Yes</td>\n",
       "      <td>7</td>\n",
       "      <td>30</td>\n",
       "      <td>Female</td>\n",
       "      <td>Parent</td>\n",
       "      <td>Divorced/Seperated</td>\n",
       "      <td>Secondary education</td>\n",
       "      <td>Self employed</td>\n",
       "      <td>No</td>\n",
       "    </tr>\n",
       "    <tr>\n",
       "      <th>33609</th>\n",
       "      <td>Uganda</td>\n",
       "      <td>2018</td>\n",
       "      <td>uniqueid_2117</td>\n",
       "      <td>Rural</td>\n",
       "      <td>Yes</td>\n",
       "      <td>10</td>\n",
       "      <td>20</td>\n",
       "      <td>Male</td>\n",
       "      <td>Child</td>\n",
       "      <td>Single/Never Married</td>\n",
       "      <td>Secondary education</td>\n",
       "      <td>No Income</td>\n",
       "      <td>No</td>\n",
       "    </tr>\n",
       "  </tbody>\n",
       "</table>\n",
       "<p>23524 rows × 13 columns</p>\n",
       "</div>"
      ],
      "text/plain": [
       "      country  year       uniqueid location_type cellphone_access  \\\n",
       "10086   Kenya  2018     uniqueid_1         Rural              Yes   \n",
       "10087   Kenya  2018     uniqueid_2         Rural               No   \n",
       "10088   Kenya  2018     uniqueid_3         Urban              Yes   \n",
       "10089   Kenya  2018     uniqueid_4         Rural              Yes   \n",
       "10090   Kenya  2018     uniqueid_5         Urban               No   \n",
       "...       ...   ...            ...           ...              ...   \n",
       "33605  Uganda  2018  uniqueid_2113         Rural              Yes   \n",
       "33606  Uganda  2018  uniqueid_2114         Rural              Yes   \n",
       "33607  Uganda  2018  uniqueid_2115         Rural              Yes   \n",
       "33608  Uganda  2018  uniqueid_2116         Urban              Yes   \n",
       "33609  Uganda  2018  uniqueid_2117         Rural              Yes   \n",
       "\n",
       "       household_size  age_of_respondent gender_of_respondent  \\\n",
       "10086               3                 24               Female   \n",
       "10087               5                 70               Female   \n",
       "10088               5                 26                 Male   \n",
       "10089               5                 34               Female   \n",
       "10090               8                 26                 Male   \n",
       "...               ...                ...                  ...   \n",
       "33605               4                 48               Female   \n",
       "33606               2                 27               Female   \n",
       "33607               5                 27               Female   \n",
       "33608               7                 30               Female   \n",
       "33609              10                 20                 Male   \n",
       "\n",
       "      relationship_with_head           marital_status  \\\n",
       "10086                 Spouse  Married/Living together   \n",
       "10087      Head of Household                  Widowed   \n",
       "10088         Other relative     Single/Never Married   \n",
       "10089      Head of Household  Married/Living together   \n",
       "10090                  Child     Single/Never Married   \n",
       "...                      ...                      ...   \n",
       "33605      Head of Household       Divorced/Seperated   \n",
       "33606      Head of Household     Single/Never Married   \n",
       "33607                 Parent                  Widowed   \n",
       "33608                 Parent       Divorced/Seperated   \n",
       "33609                  Child     Single/Never Married   \n",
       "\n",
       "                       education_level                   job_type bank_account  \n",
       "10086              Secondary education              Self employed          Yes  \n",
       "10087              No formal education       Government Dependent           No  \n",
       "10088  Vocational/Specialised training              Self employed          Yes  \n",
       "10089                Primary education  Formally employed Private           No  \n",
       "10090                Primary education        Informally employed           No  \n",
       "...                                ...                        ...          ...  \n",
       "33605              No formal education               Other Income           No  \n",
       "33606              Secondary education               Other Income           No  \n",
       "33607                Primary education               Other Income           No  \n",
       "33608              Secondary education              Self employed           No  \n",
       "33609              Secondary education                  No Income           No  \n",
       "\n",
       "[23524 rows x 13 columns]"
      ]
     },
     "execution_count": 24,
     "metadata": {},
     "output_type": "execute_result"
    }
   ],
   "source": [
    "bank_account1"
   ]
  },
  {
   "cell_type": "code",
   "execution_count": 25,
   "id": "be6d008b-38f7-4234-9deb-51efa9050a4e",
   "metadata": {},
   "outputs": [],
   "source": [
    "df_bank = bank_account1.copy() #making a dataframe from a copy of the original one"
   ]
  },
  {
   "cell_type": "code",
   "execution_count": 26,
   "id": "a95d757f-ee79-4084-bf85-d32c30f7e1b9",
   "metadata": {
    "tags": []
   },
   "outputs": [
    {
     "data": {
      "text/html": [
       "<div>\n",
       "<style scoped>\n",
       "    .dataframe tbody tr th:only-of-type {\n",
       "        vertical-align: middle;\n",
       "    }\n",
       "\n",
       "    .dataframe tbody tr th {\n",
       "        vertical-align: top;\n",
       "    }\n",
       "\n",
       "    .dataframe thead th {\n",
       "        text-align: right;\n",
       "    }\n",
       "</style>\n",
       "<table border=\"1\" class=\"dataframe\">\n",
       "  <thead>\n",
       "    <tr style=\"text-align: right;\">\n",
       "      <th></th>\n",
       "      <th>country</th>\n",
       "      <th>year</th>\n",
       "      <th>uniqueid</th>\n",
       "      <th>location_type</th>\n",
       "      <th>cellphone_access</th>\n",
       "      <th>household_size</th>\n",
       "      <th>age_of_respondent</th>\n",
       "      <th>gender_of_respondent</th>\n",
       "      <th>relationship_with_head</th>\n",
       "      <th>marital_status</th>\n",
       "      <th>education_level</th>\n",
       "      <th>job_type</th>\n",
       "      <th>bank_account</th>\n",
       "    </tr>\n",
       "  </thead>\n",
       "  <tbody>\n",
       "    <tr>\n",
       "      <th>10086</th>\n",
       "      <td>Kenya</td>\n",
       "      <td>2018</td>\n",
       "      <td>uniqueid_1</td>\n",
       "      <td>Rural</td>\n",
       "      <td>Yes</td>\n",
       "      <td>3</td>\n",
       "      <td>24</td>\n",
       "      <td>Female</td>\n",
       "      <td>Spouse</td>\n",
       "      <td>Married/Living together</td>\n",
       "      <td>Secondary education</td>\n",
       "      <td>Self employed</td>\n",
       "      <td>Yes</td>\n",
       "    </tr>\n",
       "    <tr>\n",
       "      <th>10087</th>\n",
       "      <td>Kenya</td>\n",
       "      <td>2018</td>\n",
       "      <td>uniqueid_2</td>\n",
       "      <td>Rural</td>\n",
       "      <td>No</td>\n",
       "      <td>5</td>\n",
       "      <td>70</td>\n",
       "      <td>Female</td>\n",
       "      <td>Head of Household</td>\n",
       "      <td>Widowed</td>\n",
       "      <td>No formal education</td>\n",
       "      <td>Government Dependent</td>\n",
       "      <td>No</td>\n",
       "    </tr>\n",
       "    <tr>\n",
       "      <th>10088</th>\n",
       "      <td>Kenya</td>\n",
       "      <td>2018</td>\n",
       "      <td>uniqueid_3</td>\n",
       "      <td>Urban</td>\n",
       "      <td>Yes</td>\n",
       "      <td>5</td>\n",
       "      <td>26</td>\n",
       "      <td>Male</td>\n",
       "      <td>Other relative</td>\n",
       "      <td>Single/Never Married</td>\n",
       "      <td>Vocational/Specialised training</td>\n",
       "      <td>Self employed</td>\n",
       "      <td>Yes</td>\n",
       "    </tr>\n",
       "    <tr>\n",
       "      <th>10089</th>\n",
       "      <td>Kenya</td>\n",
       "      <td>2018</td>\n",
       "      <td>uniqueid_4</td>\n",
       "      <td>Rural</td>\n",
       "      <td>Yes</td>\n",
       "      <td>5</td>\n",
       "      <td>34</td>\n",
       "      <td>Female</td>\n",
       "      <td>Head of Household</td>\n",
       "      <td>Married/Living together</td>\n",
       "      <td>Primary education</td>\n",
       "      <td>Formally employed Private</td>\n",
       "      <td>No</td>\n",
       "    </tr>\n",
       "    <tr>\n",
       "      <th>10090</th>\n",
       "      <td>Kenya</td>\n",
       "      <td>2018</td>\n",
       "      <td>uniqueid_5</td>\n",
       "      <td>Urban</td>\n",
       "      <td>No</td>\n",
       "      <td>8</td>\n",
       "      <td>26</td>\n",
       "      <td>Male</td>\n",
       "      <td>Child</td>\n",
       "      <td>Single/Never Married</td>\n",
       "      <td>Primary education</td>\n",
       "      <td>Informally employed</td>\n",
       "      <td>No</td>\n",
       "    </tr>\n",
       "    <tr>\n",
       "      <th>...</th>\n",
       "      <td>...</td>\n",
       "      <td>...</td>\n",
       "      <td>...</td>\n",
       "      <td>...</td>\n",
       "      <td>...</td>\n",
       "      <td>...</td>\n",
       "      <td>...</td>\n",
       "      <td>...</td>\n",
       "      <td>...</td>\n",
       "      <td>...</td>\n",
       "      <td>...</td>\n",
       "      <td>...</td>\n",
       "      <td>...</td>\n",
       "    </tr>\n",
       "    <tr>\n",
       "      <th>33605</th>\n",
       "      <td>Uganda</td>\n",
       "      <td>2018</td>\n",
       "      <td>uniqueid_2113</td>\n",
       "      <td>Rural</td>\n",
       "      <td>Yes</td>\n",
       "      <td>4</td>\n",
       "      <td>48</td>\n",
       "      <td>Female</td>\n",
       "      <td>Head of Household</td>\n",
       "      <td>Divorced/Seperated</td>\n",
       "      <td>No formal education</td>\n",
       "      <td>Other Income</td>\n",
       "      <td>No</td>\n",
       "    </tr>\n",
       "    <tr>\n",
       "      <th>33606</th>\n",
       "      <td>Uganda</td>\n",
       "      <td>2018</td>\n",
       "      <td>uniqueid_2114</td>\n",
       "      <td>Rural</td>\n",
       "      <td>Yes</td>\n",
       "      <td>2</td>\n",
       "      <td>27</td>\n",
       "      <td>Female</td>\n",
       "      <td>Head of Household</td>\n",
       "      <td>Single/Never Married</td>\n",
       "      <td>Secondary education</td>\n",
       "      <td>Other Income</td>\n",
       "      <td>No</td>\n",
       "    </tr>\n",
       "    <tr>\n",
       "      <th>33607</th>\n",
       "      <td>Uganda</td>\n",
       "      <td>2018</td>\n",
       "      <td>uniqueid_2115</td>\n",
       "      <td>Rural</td>\n",
       "      <td>Yes</td>\n",
       "      <td>5</td>\n",
       "      <td>27</td>\n",
       "      <td>Female</td>\n",
       "      <td>Parent</td>\n",
       "      <td>Widowed</td>\n",
       "      <td>Primary education</td>\n",
       "      <td>Other Income</td>\n",
       "      <td>No</td>\n",
       "    </tr>\n",
       "    <tr>\n",
       "      <th>33608</th>\n",
       "      <td>Uganda</td>\n",
       "      <td>2018</td>\n",
       "      <td>uniqueid_2116</td>\n",
       "      <td>Urban</td>\n",
       "      <td>Yes</td>\n",
       "      <td>7</td>\n",
       "      <td>30</td>\n",
       "      <td>Female</td>\n",
       "      <td>Parent</td>\n",
       "      <td>Divorced/Seperated</td>\n",
       "      <td>Secondary education</td>\n",
       "      <td>Self employed</td>\n",
       "      <td>No</td>\n",
       "    </tr>\n",
       "    <tr>\n",
       "      <th>33609</th>\n",
       "      <td>Uganda</td>\n",
       "      <td>2018</td>\n",
       "      <td>uniqueid_2117</td>\n",
       "      <td>Rural</td>\n",
       "      <td>Yes</td>\n",
       "      <td>10</td>\n",
       "      <td>20</td>\n",
       "      <td>Male</td>\n",
       "      <td>Child</td>\n",
       "      <td>Single/Never Married</td>\n",
       "      <td>Secondary education</td>\n",
       "      <td>No Income</td>\n",
       "      <td>No</td>\n",
       "    </tr>\n",
       "  </tbody>\n",
       "</table>\n",
       "<p>23524 rows × 13 columns</p>\n",
       "</div>"
      ],
      "text/plain": [
       "      country  year       uniqueid location_type cellphone_access  \\\n",
       "10086   Kenya  2018     uniqueid_1         Rural              Yes   \n",
       "10087   Kenya  2018     uniqueid_2         Rural               No   \n",
       "10088   Kenya  2018     uniqueid_3         Urban              Yes   \n",
       "10089   Kenya  2018     uniqueid_4         Rural              Yes   \n",
       "10090   Kenya  2018     uniqueid_5         Urban               No   \n",
       "...       ...   ...            ...           ...              ...   \n",
       "33605  Uganda  2018  uniqueid_2113         Rural              Yes   \n",
       "33606  Uganda  2018  uniqueid_2114         Rural              Yes   \n",
       "33607  Uganda  2018  uniqueid_2115         Rural              Yes   \n",
       "33608  Uganda  2018  uniqueid_2116         Urban              Yes   \n",
       "33609  Uganda  2018  uniqueid_2117         Rural              Yes   \n",
       "\n",
       "       household_size  age_of_respondent gender_of_respondent  \\\n",
       "10086               3                 24               Female   \n",
       "10087               5                 70               Female   \n",
       "10088               5                 26                 Male   \n",
       "10089               5                 34               Female   \n",
       "10090               8                 26                 Male   \n",
       "...               ...                ...                  ...   \n",
       "33605               4                 48               Female   \n",
       "33606               2                 27               Female   \n",
       "33607               5                 27               Female   \n",
       "33608               7                 30               Female   \n",
       "33609              10                 20                 Male   \n",
       "\n",
       "      relationship_with_head           marital_status  \\\n",
       "10086                 Spouse  Married/Living together   \n",
       "10087      Head of Household                  Widowed   \n",
       "10088         Other relative     Single/Never Married   \n",
       "10089      Head of Household  Married/Living together   \n",
       "10090                  Child     Single/Never Married   \n",
       "...                      ...                      ...   \n",
       "33605      Head of Household       Divorced/Seperated   \n",
       "33606      Head of Household     Single/Never Married   \n",
       "33607                 Parent                  Widowed   \n",
       "33608                 Parent       Divorced/Seperated   \n",
       "33609                  Child     Single/Never Married   \n",
       "\n",
       "                       education_level                   job_type bank_account  \n",
       "10086              Secondary education              Self employed          Yes  \n",
       "10087              No formal education       Government Dependent           No  \n",
       "10088  Vocational/Specialised training              Self employed          Yes  \n",
       "10089                Primary education  Formally employed Private           No  \n",
       "10090                Primary education        Informally employed           No  \n",
       "...                                ...                        ...          ...  \n",
       "33605              No formal education               Other Income           No  \n",
       "33606              Secondary education               Other Income           No  \n",
       "33607                Primary education               Other Income           No  \n",
       "33608              Secondary education              Self employed           No  \n",
       "33609              Secondary education                  No Income           No  \n",
       "\n",
       "[23524 rows x 13 columns]"
      ]
     },
     "execution_count": 26,
     "metadata": {},
     "output_type": "execute_result"
    }
   ],
   "source": [
    "df_bank"
   ]
  },
  {
   "cell_type": "code",
   "execution_count": 27,
   "id": "f584c1a0-6682-4bea-bf64-91565cec568b",
   "metadata": {
    "tags": []
   },
   "outputs": [
    {
     "data": {
      "text/plain": [
       "<bound method DataFrame.info of       country  year       uniqueid location_type cellphone_access  \\\n",
       "10086   Kenya  2018     uniqueid_1         Rural              Yes   \n",
       "10087   Kenya  2018     uniqueid_2         Rural               No   \n",
       "10088   Kenya  2018     uniqueid_3         Urban              Yes   \n",
       "10089   Kenya  2018     uniqueid_4         Rural              Yes   \n",
       "10090   Kenya  2018     uniqueid_5         Urban               No   \n",
       "...       ...   ...            ...           ...              ...   \n",
       "33605  Uganda  2018  uniqueid_2113         Rural              Yes   \n",
       "33606  Uganda  2018  uniqueid_2114         Rural              Yes   \n",
       "33607  Uganda  2018  uniqueid_2115         Rural              Yes   \n",
       "33608  Uganda  2018  uniqueid_2116         Urban              Yes   \n",
       "33609  Uganda  2018  uniqueid_2117         Rural              Yes   \n",
       "\n",
       "       household_size  age_of_respondent gender_of_respondent  \\\n",
       "10086               3                 24               Female   \n",
       "10087               5                 70               Female   \n",
       "10088               5                 26                 Male   \n",
       "10089               5                 34               Female   \n",
       "10090               8                 26                 Male   \n",
       "...               ...                ...                  ...   \n",
       "33605               4                 48               Female   \n",
       "33606               2                 27               Female   \n",
       "33607               5                 27               Female   \n",
       "33608               7                 30               Female   \n",
       "33609              10                 20                 Male   \n",
       "\n",
       "      relationship_with_head           marital_status  \\\n",
       "10086                 Spouse  Married/Living together   \n",
       "10087      Head of Household                  Widowed   \n",
       "10088         Other relative     Single/Never Married   \n",
       "10089      Head of Household  Married/Living together   \n",
       "10090                  Child     Single/Never Married   \n",
       "...                      ...                      ...   \n",
       "33605      Head of Household       Divorced/Seperated   \n",
       "33606      Head of Household     Single/Never Married   \n",
       "33607                 Parent                  Widowed   \n",
       "33608                 Parent       Divorced/Seperated   \n",
       "33609                  Child     Single/Never Married   \n",
       "\n",
       "                       education_level                   job_type bank_account  \n",
       "10086              Secondary education              Self employed          Yes  \n",
       "10087              No formal education       Government Dependent           No  \n",
       "10088  Vocational/Specialised training              Self employed          Yes  \n",
       "10089                Primary education  Formally employed Private           No  \n",
       "10090                Primary education        Informally employed           No  \n",
       "...                                ...                        ...          ...  \n",
       "33605              No formal education               Other Income           No  \n",
       "33606              Secondary education               Other Income           No  \n",
       "33607                Primary education               Other Income           No  \n",
       "33608              Secondary education              Self employed           No  \n",
       "33609              Secondary education                  No Income           No  \n",
       "\n",
       "[23524 rows x 13 columns]>"
      ]
     },
     "execution_count": 27,
     "metadata": {},
     "output_type": "execute_result"
    }
   ],
   "source": [
    "df_bank.info"
   ]
  },
  {
   "cell_type": "code",
   "execution_count": 28,
   "id": "d2187fcf-a928-4343-9a76-ec846d7a9f25",
   "metadata": {
    "tags": []
   },
   "outputs": [
    {
     "data": {
      "text/plain": [
       "country                   0\n",
       "year                      0\n",
       "uniqueid                  0\n",
       "location_type             0\n",
       "cellphone_access          0\n",
       "household_size            0\n",
       "age_of_respondent         0\n",
       "gender_of_respondent      0\n",
       "relationship_with_head    0\n",
       "marital_status            0\n",
       "education_level           0\n",
       "job_type                  0\n",
       "bank_account              0\n",
       "dtype: int64"
      ]
     },
     "execution_count": 28,
     "metadata": {},
     "output_type": "execute_result"
    }
   ],
   "source": [
    "df_bank.isna().sum() #checking the amount of na values"
   ]
  },
  {
   "cell_type": "code",
   "execution_count": 29,
   "id": "12f885bb-3ca8-4420-96ce-4aecc6b45068",
   "metadata": {
    "tags": []
   },
   "outputs": [
    {
     "data": {
      "text/plain": [
       "country                   0\n",
       "year                      0\n",
       "uniqueid                  0\n",
       "location_type             0\n",
       "cellphone_access          0\n",
       "household_size            0\n",
       "age_of_respondent         0\n",
       "gender_of_respondent      0\n",
       "relationship_with_head    0\n",
       "marital_status            0\n",
       "education_level           0\n",
       "job_type                  0\n",
       "bank_account              0\n",
       "dtype: int64"
      ]
     },
     "execution_count": 29,
     "metadata": {},
     "output_type": "execute_result"
    }
   ],
   "source": [
    "df_bank.isnull().sum() #checking the amount of null values"
   ]
  },
  {
   "cell_type": "code",
   "execution_count": 30,
   "id": "9ae1f7af-b130-4f84-a528-42d4b95ae055",
   "metadata": {
    "tags": []
   },
   "outputs": [
    {
     "data": {
      "text/plain": [
       "Self employed                   6437\n",
       "Informally employed             5597\n",
       "Farming and Fishing             5441\n",
       "Remittance Dependent            2527\n",
       "Other Income                    1080\n",
       "Formally employed Private       1055\n",
       "No Income                        627\n",
       "Formally employed Government     387\n",
       "Government Dependent             247\n",
       "Dont Know/Refuse to answer       126\n",
       "Name: job_type, dtype: int64"
      ]
     },
     "execution_count": 30,
     "metadata": {},
     "output_type": "execute_result"
    }
   ],
   "source": [
    "df_bank['job_type'].value_counts()"
   ]
  },
  {
   "cell_type": "markdown",
   "id": "2c3730ce-9a74-4d91-8541-39295319343f",
   "metadata": {},
   "source": [
    "### Hypthesis 1: Cellphone Access and Bank Account Ownership. Higher cellphone access is associated with a higher likelihood of having a bank account."
   ]
  },
  {
   "cell_type": "code",
   "execution_count": 31,
   "id": "ac27e329-7468-4df4-8603-3562042b0fd0",
   "metadata": {},
   "outputs": [
    {
     "name": "stdout",
     "output_type": "stream",
     "text": [
      "Correlation coefficient: 0.2096687653474871\n"
     ]
    },
    {
     "data": {
      "image/png": "[encoded data removed]",
      "text/plain": [
       "<Figure size 640x480 with 1 Axes>"
      ]
     },
     "metadata": {},
     "output_type": "display_data"
    }
   ],
   "source": [
    "#converting Yes and No into numeric values\n",
    "df_bank['cellphone_access'] = df_bank['cellphone_access'].map({'Yes': 1, 'No': 0})\n",
    "df_bank['bank_account'] = df_bank['bank_account'].map({'Yes': 1, 'No': 0})\n",
    "\n",
    "# Selecting the variables for correlation analysis\n",
    "var1_1 = df_bank['cellphone_access']\n",
    "var1_2 = df_bank['bank_account']\n",
    "\n",
    "# Calculating the correlation coefficient\n",
    "correlation_coefficient = var1_1.corr(var1_2)\n",
    "\n",
    "# Printing the correlation coefficient\n",
    "print('Correlation coefficient:', correlation_coefficient)\n",
    "\n",
    "# Creating a scatter plot\n",
    "plt.scatter(var1_1, var1_2)\n",
    "plt.xlabel('Cellphone Access')\n",
    "plt.ylabel('Bank Account')\n",
    "plt.title('Correlation Analysis Hypothesis 1')\n",
    "plt.show()"
   ]
  },
  {
   "cell_type": "code",
   "execution_count": 32,
   "id": "50800b45-3e9c-427b-b014-3d5ba02c09c7",
   "metadata": {
    "tags": []
   },
   "outputs": [
    {
     "data": {
      "text/plain": [
       "10086    1\n",
       "10087    0\n",
       "10088    1\n",
       "10089    1\n",
       "10090    0\n",
       "        ..\n",
       "33605    1\n",
       "33606    1\n",
       "33607    1\n",
       "33608    1\n",
       "33609    1\n",
       "Name: cellphone_access, Length: 23524, dtype: int64"
      ]
     },
     "execution_count": 32,
     "metadata": {},
     "output_type": "execute_result"
    }
   ],
   "source": [
    "df_bank['cellphone_access']"
   ]
  },
  {
   "cell_type": "code",
   "execution_count": 33,
   "id": "80ccaffa-7613-4794-a247-286290fb5f9d",
   "metadata": {},
   "outputs": [
    {
     "name": "stdout",
     "output_type": "stream",
     "text": [
      "Percentage of variation explained: 4.396099116233961\n"
     ]
    }
   ],
   "source": [
    "#calculating the percentage of variation explained by this correlation\n",
    "correlation_percentage = correlation_coefficient ** 2 * 100\n",
    "print('Percentage of variation explained:', correlation_percentage)"
   ]
  },
  {
   "cell_type": "code",
   "execution_count": 34,
   "id": "e82bf9f9-3c91-4f2c-9867-9f67f8604d5e",
   "metadata": {},
   "outputs": [
    {
     "data": {
      "image/png": "[encoded data removed]",
      "text/plain": [
       "<Figure size 640x480 with 1 Axes>"
      ]
     },
     "metadata": {},
     "output_type": "display_data"
    }
   ],
   "source": [
    "# Grouping the data by year and calculate the average values of cellphone_access and bank_account\n",
    "grouped_data = df_bank.groupby('year').mean()\n",
    "\n",
    "# Extracting the variables of interest\n",
    "years = grouped_data.index\n",
    "cellphone_access = grouped_data['cellphone_access']\n",
    "bank_account = grouped_data['bank_account']\n",
    "\n",
    "# Creating a line plot\n",
    "plt.plot(years, cellphone_access, label='Cellphone Access')\n",
    "plt.plot(years, bank_account, label='Bank Account')\n",
    "plt.xlabel('Year')\n",
    "plt.ylabel('Percentage')\n",
    "plt.title('Trend of Cellphone Access and Bank Account Over Time')\n",
    "\n",
    "# Rotating x-axis labels by 45 degrees\n",
    "plt.xticks(rotation=45)\n",
    "\n",
    "plt.legend()\n",
    "plt.show()"
   ]
  },
  {
   "cell_type": "markdown",
   "id": "188ee671-3f65-4959-91e2-587ed5e9dec8",
   "metadata": {},
   "source": [
    "### The correlation coefficient of 0.2096687653474871 suggests a weak positive correlation between \"Cellphone Access\" and \"Bank Account Ownership\". It indicates that as the cellphone access increases, the chance of bank account ownership to increase as well.\n",
    "### Approximately 4.4% of the variation in the likelihood of having a bank account can be explained by cellphone access."
   ]
  },
  {
   "cell_type": "markdown",
   "id": "49782661-3ba7-4d1a-8f75-5926f0dbfdd7",
   "metadata": {},
   "source": [
    "### Hypothesis 2: Education Level and Bank Account Ownership. Higher education level is associated with a higher likelihood of having a bank account."
   ]
  },
  {
   "cell_type": "code",
   "execution_count": 35,
   "id": "7db33446-03ed-4abe-8258-7589049fb17e",
   "metadata": {},
   "outputs": [
    {
     "data": {
      "text/plain": [
       "Primary education                  12791\n",
       "No formal education                 4515\n",
       "Secondary education                 4223\n",
       "Tertiary education                  1157\n",
       "Vocational/Specialised training      803\n",
       "Other/Dont know/RTA                   35\n",
       "Name: education_level, dtype: int64"
      ]
     },
     "execution_count": 35,
     "metadata": {},
     "output_type": "execute_result"
    }
   ],
   "source": [
    "df_bank['education_level'].value_counts()"
   ]
  },
  {
   "cell_type": "code",
   "execution_count": 36,
   "id": "e1f06e47-ee29-42eb-be81-9f72b2c3629e",
   "metadata": {
    "jupyter": {
     "source_hidden": true
    },
    "tags": []
   },
   "outputs": [
    {
     "name": "stdout",
     "output_type": "stream",
     "text": [
      "      country  year    uniqueid location_type  cellphone_access  \\\n",
      "10086   Kenya  2018  uniqueid_1         Rural                 1   \n",
      "10087   Kenya  2018  uniqueid_2         Rural                 0   \n",
      "10088   Kenya  2018  uniqueid_3         Urban                 1   \n",
      "10089   Kenya  2018  uniqueid_4         Rural                 1   \n",
      "10090   Kenya  2018  uniqueid_5         Urban                 0   \n",
      "\n",
      "       household_size  age_of_respondent gender_of_respondent  \\\n",
      "10086               3                 24               Female   \n",
      "10087               5                 70               Female   \n",
      "10088               5                 26                 Male   \n",
      "10089               5                 34               Female   \n",
      "10090               8                 26                 Male   \n",
      "\n",
      "      relationship_with_head           marital_status  \\\n",
      "10086                 Spouse  Married/Living together   \n",
      "10087      Head of Household                  Widowed   \n",
      "10088         Other relative     Single/Never Married   \n",
      "10089      Head of Household  Married/Living together   \n",
      "10090                  Child     Single/Never Married   \n",
      "\n",
      "                       education_level                   job_type  \\\n",
      "10086              Secondary education              Self employed   \n",
      "10087              No formal education       Government Dependent   \n",
      "10088  Vocational/Specialised training              Self employed   \n",
      "10089                Primary education  Formally employed Private   \n",
      "10090                Primary education        Informally employed   \n",
      "\n",
      "       bank_account  education_No formal education  \\\n",
      "10086             1                              0   \n",
      "10087             0                              1   \n",
      "10088             1                              0   \n",
      "10089             0                              0   \n",
      "10090             0                              0   \n",
      "\n",
      "       education_Other/Dont know/RTA  education_Primary education  \\\n",
      "10086                              0                            0   \n",
      "10087                              0                            0   \n",
      "10088                              0                            0   \n",
      "10089                              0                            1   \n",
      "10090                              0                            1   \n",
      "\n",
      "       education_Secondary education  education_Tertiary education  \\\n",
      "10086                              1                             0   \n",
      "10087                              0                             0   \n",
      "10088                              0                             0   \n",
      "10089                              0                             0   \n",
      "10090                              0                             0   \n",
      "\n",
      "       education_Vocational/Specialised training  \n",
      "10086                                          0  \n",
      "10087                                          0  \n",
      "10088                                          1  \n",
      "10089                                          0  \n",
      "10090                                          0  \n"
     ]
    }
   ],
   "source": [
    "# Extract the education level column\n",
    "df_bank1 = df_bank.copy()\n",
    "education_level = df_bank1['education_level']\n",
    "\n",
    "# Perform one-hot encoding\n",
    "encoded_education = pd.get_dummies(education_level, prefix='education')\n",
    "\n",
    "# Concatenate the encoded columns with the original data\n",
    "df_bank_encoded = pd.concat([df_bank1, encoded_education], axis=1)\n",
    "\n",
    "# Print the modified dataset\n",
    "print(df_bank_encoded.head())"
   ]
  },
  {
   "cell_type": "code",
   "execution_count": 37,
   "id": "bd69ea1e-e541-463b-9d8f-cd9ed979b141",
   "metadata": {},
   "outputs": [],
   "source": [
    "#mapping the change of str values in education_level column into numeric ones\n",
    "df_bank['education_level_num'] = df_bank['education_level'].map({\n",
    "    \"No formal education\": 0,\n",
    "    \"Primary education\": 1,\n",
    "    \"Secondary education\": 2,\n",
    "    \"Tertiary education\": 3,\n",
    "    \"Vocational/Specialised training\": 4\n",
    "})"
   ]
  },
  {
   "cell_type": "code",
   "execution_count": 38,
   "id": "386cdec5-0e5e-4f3e-8194-6fad76cc5ed6",
   "metadata": {},
   "outputs": [
    {
     "data": {
      "text/plain": [
       "1.0    12791\n",
       "0.0     4515\n",
       "2.0     4223\n",
       "3.0     1157\n",
       "4.0      803\n",
       "Name: education_level_num, dtype: int64"
      ]
     },
     "execution_count": 38,
     "metadata": {},
     "output_type": "execute_result"
    }
   ],
   "source": [
    "df_bank['education_level_num'].value_counts()"
   ]
  },
  {
   "cell_type": "code",
   "execution_count": 39,
   "id": "ff105b6c-8f4f-4935-84ad-4367ec4da4ec",
   "metadata": {},
   "outputs": [
    {
     "name": "stdout",
     "output_type": "stream",
     "text": [
      "Correlation Coefficient: 0.3660143888424126\n"
     ]
    },
    {
     "data": {
      "image/png": "[encoded data removed]",
      "text/plain": [
       "<Figure size 640x480 with 1 Axes>"
      ]
     },
     "metadata": {},
     "output_type": "display_data"
    }
   ],
   "source": [
    "#calculating the correlation coefficient\n",
    "var2_1 = df_bank['education_level_num']\n",
    "var2_2 = df_bank['bank_account']\n",
    "correlation_coefficient1 = var2_1.corr(var2_2)\n",
    "\n",
    "# Printing the correlation coefficient\n",
    "print('Correlation Coefficient:', correlation_coefficient1)\n",
    "\n",
    "#Plotting a scatter plot\n",
    "plt.scatter(var2_1, var2_2)\n",
    "plt.xlabel('Education Level')\n",
    "plt.ylabel('Bank Account')\n",
    "plt.title('Correlation Analysis Hypothesis 2')\n",
    "plt.show()"
   ]
  },
  {
   "cell_type": "code",
   "execution_count": 40,
   "id": "e8358b3e-e920-4f36-92e6-ff84597afd3c",
   "metadata": {},
   "outputs": [
    {
     "name": "stdout",
     "output_type": "stream",
     "text": [
      "Percentage of variation explained: 13.396653283968481\n"
     ]
    }
   ],
   "source": [
    "#calculating the percentage of variation explained by this correlation\n",
    "correlation_percentage1 = correlation_coefficient1 ** 2 * 100\n",
    "print('Percentage of variation explained:', correlation_percentage1)"
   ]
  },
  {
   "cell_type": "code",
   "execution_count": 41,
   "id": "77f3d87a-16a5-49d0-ba32-c35304edfc70",
   "metadata": {},
   "outputs": [
    {
     "data": {
      "image/png": "[encoded data removed]",
      "text/plain": [
       "<Figure size 640x480 with 1 Axes>"
      ]
     },
     "metadata": {},
     "output_type": "display_data"
    }
   ],
   "source": [
    "# Grouping the data by year and calculate the average values of education_level and bank_account\n",
    "grouped_data = df_bank.groupby('year').mean()\n",
    "\n",
    "# Extracting the variables of interest\n",
    "years = grouped_data.index\n",
    "education_level = grouped_data['education_level_num']\n",
    "bank_account = grouped_data['bank_account']\n",
    "\n",
    "# Creating a line plot\n",
    "plt.plot(years, education_level, label='Education Level')\n",
    "plt.plot(years, bank_account, label='Bank Account')\n",
    "plt.xlabel('Year')\n",
    "plt.ylabel('Percentage')\n",
    "plt.title('Trend of Education Level and Bank Account Over Time')\n",
    "\n",
    "# Rotating x-axis labels by 45 degrees\n",
    "plt.xticks(rotation=45)\n",
    "\n",
    "plt.legend()\n",
    "plt.show()"
   ]
  },
  {
   "cell_type": "markdown",
   "id": "02668c10-c1de-4ffc-8b2b-deb2fbf6225b",
   "metadata": {},
   "source": [
    "### The correlation coefficient of 0.3660143888424126 suggests a weak positive correlation between \"Education Level\" and \"Bank Account Ownership\". It indicates that as the education level increases, the chance of bank account ownership to increase as well.\n",
    "### Approximately 13.4% of the variation in the likelihood of having a bank account can be explained by cellphone access."
   ]
  },
  {
   "cell_type": "markdown",
   "id": "bb53e83c-8636-4f72-8ed4-da80890cd738",
   "metadata": {},
   "source": [
    "### Hypothesis 3: Household Size and Bank Account Ownership. Are bigger households provide more incentives to have a bank account compared to smaller households?"
   ]
  },
  {
   "cell_type": "code",
   "execution_count": 42,
   "id": "301d6305-6108-4d55-9cbe-450508f9ed46",
   "metadata": {},
   "outputs": [
    {
     "data": {
      "text/plain": [
       "2     5229\n",
       "3     3920\n",
       "4     3474\n",
       "1     3057\n",
       "5     2853\n",
       "6     2096\n",
       "7     1400\n",
       "8      751\n",
       "9      363\n",
       "10     190\n",
       "11      69\n",
       "12      68\n",
       "13      25\n",
       "15      11\n",
       "14      10\n",
       "16       4\n",
       "21       1\n",
       "18       1\n",
       "17       1\n",
       "20       1\n",
       "Name: household_size, dtype: int64"
      ]
     },
     "execution_count": 42,
     "metadata": {},
     "output_type": "execute_result"
    }
   ],
   "source": [
    "df_bank['household_size'].value_counts()"
   ]
  },
  {
   "cell_type": "code",
   "execution_count": 43,
   "id": "199c6e6b-5ddd-4190-9b63-c0d1aee8ce39",
   "metadata": {},
   "outputs": [
    {
     "name": "stdout",
     "output_type": "stream",
     "text": [
      "Slope: -0.004422834114394699\n",
      "Intercept: 0.1575880214719906\n",
      "R-squared: 0.0008023889949261275\n",
      "p-value: 1.391338208730665e-05\n",
      "Standard Error: 0.0010176460229295498\n"
     ]
    }
   ],
   "source": [
    "from scipy.stats import linregress\n",
    "\n",
    "# Performing regression analysis\n",
    "X = df_bank['household_size']  # Independent variable (household size)\n",
    "y = df_bank['bank_account']  # Dependent variable (bank account ownership)\n",
    "\n",
    "# Calculating regression parameters\n",
    "slope, intercept, r_value, p_value, std_err = linregress(X, y)\n",
    "\n",
    "# Printing regression results\n",
    "print(\"Slope:\", slope)\n",
    "print(\"Intercept:\", intercept)\n",
    "print(\"R-squared:\", r_value**2)\n",
    "print(\"p-value:\", p_value)\n",
    "print(\"Standard Error:\", std_err)"
   ]
  },
  {
   "cell_type": "code",
   "execution_count": 44,
   "id": "57f6ce90-278b-4335-925b-7326bb3d1bea",
   "metadata": {},
   "outputs": [
    {
     "data": {
      "image/png": "[encoded data removed]",
      "text/plain": [
       "<Figure size 640x480 with 1 Axes>"
      ]
     },
     "metadata": {},
     "output_type": "display_data"
    }
   ],
   "source": [
    "#plotting a scatter plot\n",
    "plt.scatter(X, y, alpha=0.5, label='Data Points')\n",
    "\n",
    "# Creating regression line\n",
    "x_line = np.linspace(X.min(), X.max(), 100)\n",
    "y_line = slope * x_line + intercept\n",
    "plt.plot(x_line, y_line, color='red', label='Regression Line')\n",
    "\n",
    "# Setting plot labels and title\n",
    "plt.xlabel('Household Size')\n",
    "plt.ylabel('Bank Account Ownership')\n",
    "plt.title('Regression Analysis: Household Size vs. Bank Account Ownership')\n",
    "plt.legend()\n",
    "plt.show()"
   ]
  },
  {
   "cell_type": "code",
   "execution_count": 45,
   "id": "22392472-28b8-4c23-9f53-31d05ec2d9ec",
   "metadata": {},
   "outputs": [
    {
     "name": "stdout",
     "output_type": "stream",
     "text": [
      "Correlation Coefficient: -0.028326471628604355\n"
     ]
    },
    {
     "data": {
      "image/png": "[encoded data removed]",
      "text/plain": [
       "<Figure size 640x480 with 1 Axes>"
      ]
     },
     "metadata": {},
     "output_type": "display_data"
    }
   ],
   "source": [
    "var3_1 = df_bank['household_size']\n",
    "var3_2 = df_bank['bank_account']\n",
    "\n",
    "# Calculating correlation coefficient\n",
    "correlation_coefficient2 = var3_1.corr(var3_2)\n",
    "\n",
    "# Printing correlation coefficient\n",
    "print(\"Correlation Coefficient:\", correlation_coefficient2)\n",
    "plt.scatter(var3_1, var3_2)\n",
    "plt.xlabel('Household Size')\n",
    "plt.ylabel('Bank Account Ownership')\n",
    "plt.title('Correlation Analysis Hypothesis 3')\n",
    "plt.show()"
   ]
  },
  {
   "cell_type": "code",
   "execution_count": 46,
   "id": "50d13e0c-04d1-4284-a709-c2f215abb202",
   "metadata": {},
   "outputs": [
    {
     "name": "stdout",
     "output_type": "stream",
     "text": [
      "Percentage of variation explained: 0.08023889949261274\n"
     ]
    }
   ],
   "source": [
    "#calculating the percentage of variation explained by this correlation\n",
    "correlation_percentage2 = correlation_coefficient2 ** 2 * 100\n",
    "print('Percentage of variation explained:', correlation_percentage2)"
   ]
  },
  {
   "cell_type": "code",
   "execution_count": 47,
   "id": "66e23ce2-8225-481e-98fe-b8bbfd9a13e0",
   "metadata": {},
   "outputs": [
    {
     "data": {
      "image/png": "[encoded data removed]",
      "text/plain": [
       "<Figure size 640x480 with 1 Axes>"
      ]
     },
     "metadata": {},
     "output_type": "display_data"
    }
   ],
   "source": [
    "# Grouping the data by year and calculate the average values of education_level and bank_account\n",
    "grouped_data = df_bank.groupby('year').mean()\n",
    "\n",
    "# Extracting the variables of interest\n",
    "years = grouped_data.index\n",
    "household_size = grouped_data['household_size']\n",
    "bank_account = grouped_data['bank_account']\n",
    "\n",
    "# Creating a line plot\n",
    "plt.plot(years, household_size, label='Household Size')\n",
    "plt.plot(years, bank_account, label='Bank Account')\n",
    "plt.xlabel('Year')\n",
    "plt.ylabel('Percentage')\n",
    "plt.title('Trend of Household Size and Bank Account Ownership Over Time')\n",
    "\n",
    "# Rotating x-axis labels by 45 degrees\n",
    "plt.xticks(rotation=45)\n",
    "\n",
    "plt.legend()\n",
    "plt.show()"
   ]
  },
  {
   "cell_type": "markdown",
   "id": "e62f07ee-2909-4f1b-85b4-d11138db7f65",
   "metadata": {},
   "source": [
    "### Correlation Coefficient: -0.028326471628604355. Compared to a p-value which is 1.39133, it is stasistically insignificant. "
   ]
  },
  {
   "cell_type": "code",
   "execution_count": 35,
   "id": "48eb515f-6d74-44ea-bb81-834a55404295",
   "metadata": {},
   "outputs": [],
   "source": [
    "filename = 'Final_data1.csv'\n",
    "df_bank.to_csv(filename, index=False)"
   ]
  }
 ],
 "metadata": {
  "kernelspec": {
   "display_name": "Python 3 (ipykernel)",
   "language": "python",
   "name": "python3"
  },
  "language_info": {
   "codemirror_mode": {
    "name": "ipython",
    "version": 3
   },
   "file_extension": ".py",
   "mimetype": "text/x-python",
   "name": "python",
   "nbconvert_exporter": "python",
   "pygments_lexer": "ipython3",
   "version": "3.9.13"
  }
 },
 "nbformat": 4,
 "nbformat_minor": 5
}
